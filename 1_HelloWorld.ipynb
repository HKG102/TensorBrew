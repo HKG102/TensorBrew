{
  "nbformat": 4,
  "nbformat_minor": 0,
  "metadata": {
    "colab": {
      "name": "1_HelloWorld.ipynb",
      "provenance": [],
      "include_colab_link": true
    },
    "kernelspec": {
      "name": "python3",
      "display_name": "Python 3"
    }
  },
  "cells": [
    {
      "cell_type": "markdown",
      "metadata": {
        "id": "view-in-github",
        "colab_type": "text"
      },
      "source": [
        "<a href=\"https://colab.research.google.com/github/HKG102/TensorBrew/blob/master/1_HelloWorld.ipynb\" target=\"_parent\"><img src=\"https://colab.research.google.com/assets/colab-badge.svg\" alt=\"Open In Colab\"/></a>"
      ]
    },
    {
      "cell_type": "code",
      "metadata": {
        "id": "TDK923Scjd7w",
        "colab_type": "code",
        "colab": {}
      },
      "source": [
        "import tensorflow as tf"
      ],
      "execution_count": 0,
      "outputs": []
    },
    {
      "cell_type": "code",
      "metadata": {
        "id": "N0Ts2V4kjuMX",
        "colab_type": "code",
        "outputId": "b12bb6e7-b3e4-476b-aacc-15a57ae2e117",
        "colab": {
          "base_uri": "https://localhost:8080/",
          "height": 35
        }
      },
      "source": [
        "hello = tf.constant(\"Hello World\")\n",
        "print(hello)"
      ],
      "execution_count": 0,
      "outputs": [
        {
          "output_type": "stream",
          "text": [
            "Tensor(\"Const:0\", shape=(), dtype=string)\n"
          ],
          "name": "stdout"
        }
      ]
    },
    {
      "cell_type": "code",
      "metadata": {
        "id": "0JFeUbbekfma",
        "colab_type": "code",
        "outputId": "563ec741-d1f6-4c87-f8c2-cded37b2d536",
        "colab": {
          "base_uri": "https://localhost:8080/",
          "height": 35
        }
      },
      "source": [
        "hello_2 = tf.constant(\"Hello World\", shape=[6,2])\n",
        "print(hello_2)"
      ],
      "execution_count": 0,
      "outputs": [
        {
          "output_type": "stream",
          "text": [
            "Tensor(\"Const_1:0\", shape=(6, 2), dtype=string)\n"
          ],
          "name": "stdout"
        }
      ]
    },
    {
      "cell_type": "markdown",
      "metadata": {
        "id": "vpf9ulgwlvik",
        "colab_type": "text"
      },
      "source": [
        "#start a seesion\n"
      ]
    },
    {
      "cell_type": "code",
      "metadata": {
        "id": "wKefzn7llRQH",
        "colab_type": "code",
        "colab": {}
      },
      "source": [
        " sess = tf.Session()"
      ],
      "execution_count": 0,
      "outputs": []
    },
    {
      "cell_type": "code",
      "metadata": {
        "id": "BfcK9W0Ll3VK",
        "colab_type": "code",
        "outputId": "847accea-d778-4f36-d110-8d0abdff86c8",
        "colab": {
          "base_uri": "https://localhost:8080/",
          "height": 35
        }
      },
      "source": [
        "print(sess.run(hello))"
      ],
      "execution_count": 0,
      "outputs": [
        {
          "output_type": "stream",
          "text": [
            "b'Hello World'\n"
          ],
          "name": "stdout"
        }
      ]
    },
    {
      "cell_type": "code",
      "metadata": {
        "id": "VU11wcfol78Z",
        "colab_type": "code",
        "outputId": "79ce9c90-fa0d-49be-f566-f4f47a13a615",
        "colab": {
          "base_uri": "https://localhost:8080/",
          "height": 121
        }
      },
      "source": [
        "print(sess.run(hello_2))"
      ],
      "execution_count": 0,
      "outputs": [
        {
          "output_type": "stream",
          "text": [
            "[[b'Hello World' b'Hello World']\n",
            " [b'Hello World' b'Hello World']\n",
            " [b'Hello World' b'Hello World']\n",
            " [b'Hello World' b'Hello World']\n",
            " [b'Hello World' b'Hello World']\n",
            " [b'Hello World' b'Hello World']]\n"
          ],
          "name": "stdout"
        }
      ]
    },
    {
      "cell_type": "markdown",
      "metadata": {
        "id": "FnV88xTJmRs0",
        "colab_type": "text"
      },
      "source": [
        "close the session so that the computing resources are out and used by other resources.\n"
      ]
    },
    {
      "cell_type": "code",
      "metadata": {
        "id": "YtbXK0DlmCmf",
        "colab_type": "code",
        "colab": {}
      },
      "source": [
        "sess.close()"
      ],
      "execution_count": 0,
      "outputs": []
    },
    {
      "cell_type": "markdown",
      "metadata": {
        "id": "vWN7EHH-qQX_",
        "colab_type": "text"
      },
      "source": [
        "#Computaional Graph"
      ]
    },
    {
      "cell_type": "markdown",
      "metadata": {
        "id": "jJ-PMNCVqV1d",
        "colab_type": "text"
      },
      "source": [
        "Step1. Build a graph\n"
      ]
    },
    {
      "cell_type": "code",
      "metadata": {
        "id": "gv-TNfqpmhTB",
        "colab_type": "code",
        "colab": {}
      },
      "source": [
        "a = tf.constant([1.2],name='first',dtype=tf.float32)\n",
        "b = tf.constant([3.6],name='second',dtype=tf.float32)\n",
        "c = tf.add(a,b,name ='final')"
      ],
      "execution_count": 0,
      "outputs": []
    },
    {
      "cell_type": "markdown",
      "metadata": {
        "id": "TfvwaO1Vq8KY",
        "colab_type": "text"
      },
      "source": [
        "step2. Execute a graph\n"
      ]
    },
    {
      "cell_type": "code",
      "metadata": {
        "id": "8_4AraQvq6fz",
        "colab_type": "code",
        "outputId": "ccf1ccf7-453c-455e-fe17-8eceaaef6b17",
        "colab": {
          "base_uri": "https://localhost:8080/",
          "height": 35
        }
      },
      "source": [
        "with tf.Session() as sess : \n",
        "  print(sess.run(c))"
      ],
      "execution_count": 0,
      "outputs": [
        {
          "output_type": "stream",
          "text": [
            "[4.8]\n"
          ],
          "name": "stdout"
        }
      ]
    },
    {
      "cell_type": "markdown",
      "metadata": {
        "id": "bD1cwwm6rpvV",
        "colab_type": "text"
      },
      "source": [
        "using #with is beneficial because it automatically close the session and release the computing resources. the basic idea of running on c is that c is depend on a & b so a & b run automatically."
      ]
    },
    {
      "cell_type": "code",
      "metadata": {
        "id": "IERLbWqdrMBl",
        "colab_type": "code",
        "colab": {}
      },
      "source": [
        ""
      ],
      "execution_count": 0,
      "outputs": []
    }
  ]
}