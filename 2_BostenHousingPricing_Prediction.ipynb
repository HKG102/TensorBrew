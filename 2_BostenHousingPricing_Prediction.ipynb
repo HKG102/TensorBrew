{
  "nbformat": 4,
  "nbformat_minor": 0,
  "metadata": {
    "colab": {
      "name": "2_BostenHousingPricing_Pridiction.ipynb",
      "provenance": [],
      "collapsed_sections": [],
      "include_colab_link": true
    },
    "kernelspec": {
      "name": "python3",
      "display_name": "Python 3"
    }
  },
  "cells": [
    {
      "cell_type": "markdown",
      "metadata": {
        "id": "view-in-github",
        "colab_type": "text"
      },
      "source": [
        "<a href=\"https://colab.research.google.com/github/HKG102/TensorBrew/blob/master/2_BostenHousingPricing_Prediction.ipynb\" target=\"_parent\"><img src=\"https://colab.research.google.com/assets/colab-badge.svg\" alt=\"Open In Colab\"/></a>"
      ]
    },
    {
      "cell_type": "markdown",
      "metadata": {
        "id": "rxhMNOGgmVqA",
        "colab_type": "text"
      },
      "source": [
        "Build a Linear Regression to pridict housing prices for Boston.\n"
      ]
    },
    {
      "cell_type": "code",
      "metadata": {
        "id": "AGg8beBUmlid",
        "colab_type": "code",
        "colab": {}
      },
      "source": [
        "import tensorflow as tf"
      ],
      "execution_count": 0,
      "outputs": []
    },
    {
      "cell_type": "code",
      "metadata": {
        "id": "eb988b8KmraS",
        "colab_type": "code",
        "colab": {}
      },
      "source": [
        "#collect data\n",
        "from tensorflow.python.keras.datasets import boston_housing\n",
        "\n",
        "#load data\n",
        "(features, actual_prices),_ = boston_housing.load_data(test_split=0)"
      ],
      "execution_count": 0,
      "outputs": []
    },
    {
      "cell_type": "code",
      "metadata": {
        "id": "YAHuArLinLPz",
        "colab_type": "code",
        "colab": {}
      },
      "source": [
        "#needed only for jupyter notebook\n",
        "#tf.reset_default_graph()"
      ],
      "execution_count": 0,
      "outputs": []
    },
    {
      "cell_type": "code",
      "metadata": {
        "id": "Vy6XfPehnkkH",
        "colab_type": "code",
        "outputId": "7bef9628-1d6d-4dbc-db74-c52d6dde251d",
        "colab": {
          "base_uri": "https://localhost:8080/",
          "height": 69
        }
      },
      "source": [
        "print('Number of examples: ', features.shape[0])\n",
        "print('Number of features for each example:', features.shape[1])\n",
        "print('Shape of actual price data: ', actual_prices.shape )"
      ],
      "execution_count": 9,
      "outputs": [
        {
          "output_type": "stream",
          "text": [
            "Number of examples:  506\n",
            "Number of features for each example: 13\n",
            "Shape of actual price data:  (506,)\n"
          ],
          "name": "stdout"
        }
      ]
    },
    {
      "cell_type": "markdown",
      "metadata": {
        "id": "_LUTM3FsoY2N",
        "colab_type": "text"
      },
      "source": [
        "#Build a graph\n"
      ]
    },
    {
      "cell_type": "markdown",
      "metadata": {
        "id": "f5eF5ssCovEP",
        "colab_type": "text"
      },
      "source": [
        "Define input data placeholders"
      ]
    },
    {
      "cell_type": "code",
      "metadata": {
        "id": "BjLh3_x4oL9H",
        "colab_type": "code",
        "colab": {}
      },
      "source": [
        "#Input features\n",
        "x = tf.placeholder(shape=[None,13],dtype=tf.float32, name='x-input')\n",
        "\n",
        "#Normalize the data\n",
        "x_n = tf.nn.l2_normalize(x,1)\n",
        "\n",
        "#Actual Prices\n",
        "y_ = tf.placeholder(shape=[None],dtype=tf.float32, name='y-input')"
      ],
      "execution_count": 0,
      "outputs": []
    },
    {
      "cell_type": "markdown",
      "metadata": {
        "id": "inR06xG5pBsB",
        "colab_type": "text"
      },
      "source": [
        "Define Weights and Bias"
      ]
    },
    {
      "cell_type": "code",
      "metadata": {
        "id": "7JDcjmg7pCrM",
        "colab_type": "code",
        "colab": {}
      },
      "source": [
        "W = tf.Variable(tf.zeros(shape=[13,1]), name=\"Weights\")\n",
        "b = tf.Variable(tf.zeros(shape=[1]),name=\"Bias\")"
      ],
      "execution_count": 0,
      "outputs": []
    },
    {
      "cell_type": "markdown",
      "metadata": {
        "id": "a2f0okQQpHDd",
        "colab_type": "text"
      },
      "source": [
        "Prediction"
      ]
    },
    {
      "cell_type": "code",
      "metadata": {
        "id": "ZAVDUeLBpKKA",
        "colab_type": "code",
        "colab": {}
      },
      "source": [
        "#We will use normalized data\n",
        "#y = tf.add(tf.matmul(x,W),b,name='output')\n",
        "y = tf.add(tf.matmul(x_n,W),b,name='output')"
      ],
      "execution_count": 0,
      "outputs": []
    },
    {
      "cell_type": "markdown",
      "metadata": {
        "id": "35IQ4VxDpVeH",
        "colab_type": "text"
      },
      "source": [
        "Loss (Cost) Function"
      ]
    },
    {
      "cell_type": "code",
      "metadata": {
        "id": "iPFc1T8hpQTf",
        "colab_type": "code",
        "colab": {}
      },
      "source": [
        "loss = tf.reduce_mean(tf.square(y-y_),name='Loss')"
      ],
      "execution_count": 0,
      "outputs": []
    },
    {
      "cell_type": "markdown",
      "metadata": {
        "id": "5KfeUGfcpYnX",
        "colab_type": "text"
      },
      "source": [
        "GradientDescent Optimizer to minimize Loss"
      ]
    },
    {
      "cell_type": "code",
      "metadata": {
        "id": "cZ-7CDoOpcrL",
        "colab_type": "code",
        "colab": {}
      },
      "source": [
        "train_op = tf.train.GradientDescentOptimizer(0.03).minimize(loss)"
      ],
      "execution_count": 0,
      "outputs": []
    },
    {
      "cell_type": "markdown",
      "metadata": {
        "id": "F6CrERyTpg7C",
        "colab_type": "text"
      },
      "source": [
        "#Execution of Graph"
      ]
    },
    {
      "cell_type": "code",
      "metadata": {
        "id": "jprJBIfBpox4",
        "colab_type": "code",
        "colab": {}
      },
      "source": [
        "#Lets start graph Execution\n",
        "sess = tf.Session()\n",
        "\n",
        "# variables need to be initialized before we can use them\n",
        "sess.run(tf.global_variables_initializer())\n",
        "\n",
        "#how many times data need to be shown to model\n",
        "training_epochs = 100"
      ],
      "execution_count": 0,
      "outputs": []
    },
    {
      "cell_type": "code",
      "metadata": {
        "id": "NtdvJzNmpulh",
        "colab_type": "code",
        "outputId": "843e9cda-f9ca-4311-81cd-038c58fbed18",
        "colab": {
          "base_uri": "https://localhost:8080/",
          "height": 191
        }
      },
      "source": [
        "for epoch in range(training_epochs):\n",
        "            \n",
        "    #Calculate train_op and loss\n",
        "    _, train_loss = sess.run([train_op,loss],feed_dict={x:features, y_:actual_prices})\n",
        "    \n",
        "    if epoch % 10 == 0:\n",
        "        print ('Training loss at step: ', epoch, ' is ', train_loss)"
      ],
      "execution_count": 16,
      "outputs": [
        {
          "output_type": "stream",
          "text": [
            "Training loss at step:  0  is  592.147\n",
            "Training loss at step:  10  is  128.12572\n",
            "Training loss at step:  20  is  88.48528\n",
            "Training loss at step:  30  is  85.08946\n",
            "Training loss at step:  40  is  84.78984\n",
            "Training loss at step:  50  is  84.75536\n",
            "Training loss at step:  60  is  84.74418\n",
            "Training loss at step:  70  is  84.73558\n",
            "Training loss at step:  80  is  84.727776\n",
            "Training loss at step:  90  is  84.72054\n"
          ],
          "name": "stdout"
        }
      ]
    },
    {
      "cell_type": "code",
      "metadata": {
        "id": "XRXFtJXgp3TM",
        "colab_type": "code",
        "colab": {}
      },
      "source": [
        "sess.close()"
      ],
      "execution_count": 0,
      "outputs": []
    }
  ]
}