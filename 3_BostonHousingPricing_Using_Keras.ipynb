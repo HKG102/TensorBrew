{
  "nbformat": 4,
  "nbformat_minor": 0,
  "metadata": {
    "colab": {
      "name": "3_BostonHousingPricing_Using_Keras.ipynb",
      "provenance": [],
      "collapsed_sections": [],
      "include_colab_link": true
    },
    "kernelspec": {
      "name": "python3",
      "display_name": "Python 3"
    }
  },
  "cells": [
    {
      "cell_type": "markdown",
      "metadata": {
        "id": "view-in-github",
        "colab_type": "text"
      },
      "source": [
        "<a href=\"https://colab.research.google.com/github/HKG102/TensorBrew/blob/master/3_BostonHousingPricing_Using_Keras.ipynb\" target=\"_parent\"><img src=\"https://colab.research.google.com/assets/colab-badge.svg\" alt=\"Open In Colab\"/></a>"
      ]
    },
    {
      "cell_type": "markdown",
      "metadata": {
        "id": "jTSCdYPlIAco",
        "colab_type": "text"
      },
      "source": [
        "#Load tensorflow"
      ]
    },
    {
      "cell_type": "code",
      "metadata": {
        "id": "iLB-5y-PIDFV",
        "colab_type": "code",
        "colab": {
          "base_uri": "https://localhost:8080/",
          "height": 64
        },
        "outputId": "9c01a2cd-2d70-4d55-e62b-a7f2a3d19b7e"
      },
      "source": [
        "import tensorflow as tf"
      ],
      "execution_count": 1,
      "outputs": [
        {
          "output_type": "display_data",
          "data": {
            "text/html": [
              "<p style=\"color: red;\">\n",
              "The default version of TensorFlow in Colab will soon switch to TensorFlow 2.x.<br>\n",
              "We recommend you <a href=\"https://www.tensorflow.org/guide/migrate\" target=\"_blank\">upgrade</a> now \n",
              "or ensure your notebook will continue to use TensorFlow 1.x via the <code>%tensorflow_version 1.x</code> magic:\n",
              "<a href=\"https://colab.research.google.com/notebooks/tensorflow_version.ipynb\" target=\"_blank\">more info</a>.</p>\n"
            ],
            "text/plain": [
              "<IPython.core.display.HTML object>"
            ]
          },
          "metadata": {
            "tags": []
          }
        }
      ]
    },
    {
      "cell_type": "markdown",
      "metadata": {
        "id": "94U_nq7iIHkB",
        "colab_type": "text"
      },
      "source": [
        "#Collect Data"
      ]
    },
    {
      "cell_type": "code",
      "metadata": {
        "id": "2PLGqJX0ILLR",
        "colab_type": "code",
        "colab": {
          "base_uri": "https://localhost:8080/",
          "height": 52
        },
        "outputId": "6b5820bc-fbe6-492b-bb72-76ee9a5dae78"
      },
      "source": [
        "(features, actual_prices),_ = tf.keras.datasets.boston_housing.load_data(test_split=0)"
      ],
      "execution_count": 2,
      "outputs": [
        {
          "output_type": "stream",
          "text": [
            "Downloading data from https://storage.googleapis.com/tensorflow/tf-keras-datasets/boston_housing.npz\n",
            "57344/57026 [==============================] - 0s 0us/step\n"
          ],
          "name": "stdout"
        }
      ]
    },
    {
      "cell_type": "code",
      "metadata": {
        "id": "w4FmZ0qyIN9j",
        "colab_type": "code",
        "colab": {
          "base_uri": "https://localhost:8080/",
          "height": 69
        },
        "outputId": "b9e31ce4-e9e2-49b8-b0cd-c740cffad544"
      },
      "source": [
        "print('Number of examples: ', features.shape[0])\n",
        "print('Number of features for each example: ', features.shape[1])\n",
        "print('Shape of actual prices data: ', actual_prices.shape)"
      ],
      "execution_count": 3,
      "outputs": [
        {
          "output_type": "stream",
          "text": [
            "Number of examples:  506\n",
            "Number of features for each example:  13\n",
            "Shape of actual prices data:  (506,)\n"
          ],
          "name": "stdout"
        }
      ]
    },
    {
      "cell_type": "markdown",
      "metadata": {
        "id": "IceBz4h7IRQz",
        "colab_type": "text"
      },
      "source": [
        "#Building the graph in Keras"
      ]
    },
    {
      "cell_type": "code",
      "metadata": {
        "id": "9TQGgmswIVDz",
        "colab_type": "code",
        "colab": {
          "base_uri": "https://localhost:8080/",
          "height": 89
        },
        "outputId": "fbb5842b-2bd3-4f8b-bb3d-15965dd79a24"
      },
      "source": [
        "#Initialize Sequential Graph (model)\n",
        "model = tf.keras.models.Sequential()\n",
        "\n",
        "#Normalize input data\n",
        "model.add(tf.keras.layers.BatchNormalization(input_shape=(13,)))\n",
        "\n",
        "#Add Dense layer for prediction - Keras declares weights and bias automatically\n",
        "model.add(tf.keras.layers.Dense(1))\n",
        "\n",
        "#Compile the model - add Loss and Gradient Descent optimizer\n",
        "model.compile(optimizer='sgd', loss='mse')"
      ],
      "execution_count": 4,
      "outputs": [
        {
          "output_type": "stream",
          "text": [
            "WARNING:tensorflow:From /usr/local/lib/python3.6/dist-packages/tensorflow_core/python/ops/resource_variable_ops.py:1630: calling BaseResourceVariable.__init__ (from tensorflow.python.ops.resource_variable_ops) with constraint is deprecated and will be removed in a future version.\n",
            "Instructions for updating:\n",
            "If using Keras pass *_constraint arguments to layers.\n"
          ],
          "name": "stdout"
        }
      ]
    },
    {
      "cell_type": "markdown",
      "metadata": {
        "id": "u3ZwYzl5IZhL",
        "colab_type": "text"
      },
      "source": [
        "#Execute the Graph"
      ]
    },
    {
      "cell_type": "code",
      "metadata": {
        "id": "6VxroXwOIdV4",
        "colab_type": "code",
        "colab": {
          "base_uri": "https://localhost:8080/",
          "height": 225
        },
        "outputId": "27686824-5455-4df7-b011-7ec181115f81"
      },
      "source": [
        "model.fit(features, actual_prices, epochs=5)"
      ],
      "execution_count": 13,
      "outputs": [
        {
          "output_type": "stream",
          "text": [
            "Train on 506 samples\n",
            "Epoch 1/5\n",
            "506/506 [==============================] - 0s 65us/sample - loss: 29.2345\n",
            "Epoch 2/5\n",
            "506/506 [==============================] - 0s 51us/sample - loss: 33.1518\n",
            "Epoch 3/5\n",
            "506/506 [==============================] - 0s 50us/sample - loss: 26.7419\n",
            "Epoch 4/5\n",
            "506/506 [==============================] - 0s 53us/sample - loss: 27.5611\n",
            "Epoch 5/5\n",
            "506/506 [==============================] - 0s 48us/sample - loss: 27.9147\n"
          ],
          "name": "stdout"
        },
        {
          "output_type": "execute_result",
          "data": {
            "text/plain": [
              "<tensorflow.python.keras.callbacks.History at 0x7f8c4ec9ffd0>"
            ]
          },
          "metadata": {
            "tags": []
          },
          "execution_count": 13
        }
      ]
    },
    {
      "cell_type": "markdown",
      "metadata": {
        "id": "vnmFBcFUIhoQ",
        "colab_type": "text"
      },
      "source": [
        "#Save the model"
      ]
    },
    {
      "cell_type": "code",
      "metadata": {
        "id": "IVZr-A7LIn9r",
        "colab_type": "code",
        "colab": {}
      },
      "source": [
        "#model.save('models/boston_housing_lr.h5')"
      ],
      "execution_count": 0,
      "outputs": []
    },
    {
      "cell_type": "markdown",
      "metadata": {
        "id": "Zsvf_8ChNrhg",
        "colab_type": "text"
      },
      "source": [
        "#Load Model"
      ]
    },
    {
      "cell_type": "code",
      "metadata": {
        "id": "z6WaIOtjNzGv",
        "colab_type": "code",
        "colab": {}
      },
      "source": [
        "#model = tf.keras.models.load_model('models/boston_housing_lr.h5')"
      ],
      "execution_count": 0,
      "outputs": []
    },
    {
      "cell_type": "markdown",
      "metadata": {
        "id": "4VwlrQVpN2Ox",
        "colab_type": "text"
      },
      "source": [
        "#Prediction"
      ]
    },
    {
      "cell_type": "code",
      "metadata": {
        "id": "zx0bDGdcN5id",
        "colab_type": "code",
        "colab": {}
      },
      "source": [
        "#Define input data for prediction\n",
        "input_data = [1.23, 0, 8.14, 0, 0.54, 6.14, 91.7, 3.98, 4, 307,  21, 396.9, 18.72]"
      ],
      "execution_count": 0,
      "outputs": []
    },
    {
      "cell_type": "code",
      "metadata": {
        "id": "CmkCkOdwN_P8",
        "colab_type": "code",
        "colab": {}
      },
      "source": [
        "#Convert it into numpy array - 1 example with 13 features. So 1x13 array\n",
        "import numpy as np\n",
        "input_data = np.reshape(input_data, (1,13))"
      ],
      "execution_count": 0,
      "outputs": []
    },
    {
      "cell_type": "code",
      "metadata": {
        "id": "ufLXgW59OEae",
        "colab_type": "code",
        "colab": {
          "base_uri": "https://localhost:8080/",
          "height": 35
        },
        "outputId": "b7a4bd81-0993-4a94-e85e-e208e93f4420"
      },
      "source": [
        "#Model prediction\n",
        "predicted_price = model.predict(input_data)\n",
        "\n",
        "#Print predicted price\n",
        "print(predicted_price[0][0])"
      ],
      "execution_count": 17,
      "outputs": [
        {
          "output_type": "stream",
          "text": [
            "14.718493\n"
          ],
          "name": "stdout"
        }
      ]
    }
  ]
}