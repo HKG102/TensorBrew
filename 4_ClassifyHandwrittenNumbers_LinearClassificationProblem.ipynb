{
  "nbformat": 4,
  "nbformat_minor": 0,
  "metadata": {
    "colab": {
      "name": "4_ClassifyHandwrittenNumbers_LinearClassificationProblem.ipynb",
      "provenance": [],
      "include_colab_link": true
    },
    "kernelspec": {
      "name": "python3",
      "display_name": "Python 3"
    }
  },
  "cells": [
    {
      "cell_type": "markdown",
      "metadata": {
        "id": "view-in-github",
        "colab_type": "text"
      },
      "source": [
        "<a href=\"https://colab.research.google.com/github/HKG102/TensorBrew/blob/master/4_ClassifyHandwrittenNumbers_LinearClassificationProblem.ipynb\" target=\"_parent\"><img src=\"https://colab.research.google.com/assets/colab-badge.svg\" alt=\"Open In Colab\"/></a>"
      ]
    },
    {
      "cell_type": "markdown",
      "metadata": {
        "id": "Xh9tYoEGk4ak",
        "colab_type": "text"
      },
      "source": [
        "#**Hand-written digits Predictor with DL**\n"
      ]
    },
    {
      "cell_type": "markdown",
      "metadata": {
        "id": "IHc2QLX-k8JF",
        "colab_type": "text"
      },
      "source": [
        "**Load** **tensorflow**"
      ]
    },
    {
      "cell_type": "code",
      "metadata": {
        "id": "rpxV5QE9k7NL",
        "colab_type": "code",
        "colab": {
          "base_uri": "https://localhost:8080/",
          "height": 63
        },
        "outputId": "85cd04e0-32ec-489f-da59-28d66f8c3993"
      },
      "source": [
        "import tensorflow as tf\n",
        "tf.set_random_seed(42)  #for reproducebility"
      ],
      "execution_count": 1,
      "outputs": [
        {
          "output_type": "display_data",
          "data": {
            "text/html": [
              "<p style=\"color: red;\">\n",
              "The default version of TensorFlow in Colab will soon switch to TensorFlow 2.x.<br>\n",
              "We recommend you <a href=\"https://www.tensorflow.org/guide/migrate\" target=\"_blank\">upgrade</a> now \n",
              "or ensure your notebook will continue to use TensorFlow 1.x via the <code>%tensorflow_version 1.x</code> magic:\n",
              "<a href=\"https://colab.research.google.com/notebooks/tensorflow_version.ipynb\" target=\"_blank\">more info</a>.</p>\n"
            ],
            "text/plain": [
              "<IPython.core.display.HTML object>"
            ]
          },
          "metadata": {
            "tags": []
          }
        }
      ]
    },
    {
      "cell_type": "markdown",
      "metadata": {
        "id": "2PobgwNllL0x",
        "colab_type": "text"
      },
      "source": [
        "**Collect Data**"
      ]
    },
    {
      "cell_type": "code",
      "metadata": {
        "id": "knSPnD_glOBk",
        "colab_type": "code",
        "colab": {}
      },
      "source": [
        "(trainX, trainY), (testX, testY) = tf.keras.datasets.mnist.load_data()\n"
      ],
      "execution_count": 0,
      "outputs": []
    },
    {
      "cell_type": "code",
      "metadata": {
        "id": "AE9H9bWjlR8b",
        "colab_type": "code",
        "colab": {
          "base_uri": "https://localhost:8080/",
          "height": 85
        },
        "outputId": "8fb9c8a4-e576-4323-b1d8-b51208e51deb"
      },
      "source": [
        "print('Number of Training example: ',trainX.shape[0])\n",
        "print('Number of Training example shape: ',trainX.shape)\n",
        "print('Number of Trest example: ',testX.shape)\n",
        "print('First 5 data for test : ',testY[0:5])"
      ],
      "execution_count": 6,
      "outputs": [
        {
          "output_type": "stream",
          "text": [
            "Number of Training example:  60000\n",
            "Number of Training example shape:  (60000, 28, 28)\n",
            "Number of Trest example:  (10000, 28, 28)\n",
            "First 5 data for test :  [7 2 1 0 4]\n"
          ],
          "name": "stdout"
        }
      ]
    },
    {
      "cell_type": "markdown",
      "metadata": {
        "id": "t3BL0tHXljqx",
        "colab_type": "text"
      },
      "source": [
        "**Convert Output label to multiple valuest**"
      ]
    },
    {
      "cell_type": "code",
      "metadata": {
        "id": "4XuC8bEhlW4S",
        "colab_type": "code",
        "colab": {
          "base_uri": "https://localhost:8080/",
          "height": 51
        },
        "outputId": "5964b9d7-e313-46ed-b944-fde8a259cf53"
      },
      "source": [
        "print(trainY.shape)\n",
        "print('First 2 examples are: ', trainY[0:2])\n"
      ],
      "execution_count": 7,
      "outputs": [
        {
          "output_type": "stream",
          "text": [
            "(60000,)\n",
            "First 2 examples are:  [5 0]\n"
          ],
          "name": "stdout"
        }
      ]
    },
    {
      "cell_type": "code",
      "metadata": {
        "id": "bJg6Dl44lxS5",
        "colab_type": "code",
        "colab": {}
      },
      "source": [
        "trainY = tf.keras.utils.to_categorical(trainY, num_classes=10)  #convert it into one hot encoding, each label is converting into 10 numbers\n",
        "testY = tf.keras.utils.to_categorical(testY, num_classes=10)"
      ],
      "execution_count": 0,
      "outputs": []
    },
    {
      "cell_type": "code",
      "metadata": {
        "id": "hqdXJ5-7l1P_",
        "colab_type": "code",
        "colab": {
          "base_uri": "https://localhost:8080/",
          "height": 68
        },
        "outputId": "d617415f-aa87-4144-8fd2-e2b4fe17890e"
      },
      "source": [
        "print(trainY.shape)\n",
        "print('First 2 examples now are: ', trainY[0:2])"
      ],
      "execution_count": 9,
      "outputs": [
        {
          "output_type": "stream",
          "text": [
            "(60000, 10)\n",
            "First 2 examples now are:  [[0. 0. 0. 0. 0. 1. 0. 0. 0. 0.]\n",
            " [1. 0. 0. 0. 0. 0. 0. 0. 0. 0.]]\n"
          ],
          "name": "stdout"
        }
      ]
    },
    {
      "cell_type": "markdown",
      "metadata": {
        "id": "vKYF2XIol7IR",
        "colab_type": "text"
      },
      "source": [
        "## **Build the Graph**"
      ]
    },
    {
      "cell_type": "code",
      "metadata": {
        "id": "Gky9wkGRmCkw",
        "colab_type": "code",
        "colab": {
          "base_uri": "https://localhost:8080/",
          "height": 88
        },
        "outputId": "c89792a2-45f2-40f5-ec3a-e374c013e697"
      },
      "source": [
        "#Initialize Sequential model\n",
        "model = tf.keras.models.Sequential()\n",
        "\n",
        "#Reshape data from 2D to 1D -> 28x28 to 784\n",
        "model.add(tf.keras.layers.Reshape((784,),input_shape=(28,28,)))\n",
        "\n",
        "#Normalize the data\n",
        "model.add(tf.keras.layers.BatchNormalization())\n",
        "\n",
        "#Add Dense Layer which provides 10 Outputs after applying softmax\n",
        "model.add(tf.keras.layers.Dense(10, activation='softmax'))\n",
        "\n",
        "#Comile the model\n",
        "model.compile(optimizer='sgd', loss='categorical_crossentropy', metrics=['accuracy'])"
      ],
      "execution_count": 10,
      "outputs": [
        {
          "output_type": "stream",
          "text": [
            "WARNING:tensorflow:From /usr/local/lib/python3.6/dist-packages/tensorflow_core/python/ops/resource_variable_ops.py:1630: calling BaseResourceVariable.__init__ (from tensorflow.python.ops.resource_variable_ops) with constraint is deprecated and will be removed in a future version.\n",
            "Instructions for updating:\n",
            "If using Keras pass *_constraint arguments to layers.\n"
          ],
          "name": "stdout"
        }
      ]
    },
    {
      "cell_type": "markdown",
      "metadata": {
        "id": "IETzAZgtmJVY",
        "colab_type": "text"
      },
      "source": [
        "**Execute the** **Graph**"
      ]
    },
    {
      "cell_type": "code",
      "metadata": {
        "id": "AK4qAXvZmQRD",
        "colab_type": "code",
        "colab": {
          "base_uri": "https://localhost:8080/",
          "height": 1000
        },
        "outputId": "3295c589-39c6-4d68-af63-98820c2b5233"
      },
      "source": [
        "model.fit(trainX, trainY, \n",
        "          validation_data=(testX, testY), \n",
        "          epochs=100,\n",
        "          batch_size=trainX.shape[0])"
      ],
      "execution_count": 12,
      "outputs": [
        {
          "output_type": "stream",
          "text": [
            "Train on 60000 samples, validate on 10000 samples\n",
            "Epoch 1/100\n",
            "60000/60000 [==============================] - 1s 14us/sample - loss: 1.0654 - acc: 0.6952 - val_loss: 1.1253 - val_acc: 0.6724\n",
            "Epoch 2/100\n",
            "60000/60000 [==============================] - 1s 15us/sample - loss: 1.0556 - acc: 0.6982 - val_loss: 1.1103 - val_acc: 0.6760\n",
            "Epoch 3/100\n",
            "60000/60000 [==============================] - 1s 14us/sample - loss: 1.0462 - acc: 0.7017 - val_loss: 1.0958 - val_acc: 0.6802\n",
            "Epoch 4/100\n",
            "60000/60000 [==============================] - 1s 14us/sample - loss: 1.0369 - acc: 0.7050 - val_loss: 1.0819 - val_acc: 0.6842\n",
            "Epoch 5/100\n",
            "60000/60000 [==============================] - 1s 15us/sample - loss: 1.0280 - acc: 0.7078 - val_loss: 1.0685 - val_acc: 0.6875\n",
            "Epoch 6/100\n",
            "60000/60000 [==============================] - 1s 15us/sample - loss: 1.0192 - acc: 0.7099 - val_loss: 1.0556 - val_acc: 0.6917\n",
            "Epoch 7/100\n",
            "60000/60000 [==============================] - 1s 14us/sample - loss: 1.0107 - acc: 0.7125 - val_loss: 1.0431 - val_acc: 0.6944\n",
            "Epoch 8/100\n",
            "60000/60000 [==============================] - 1s 15us/sample - loss: 1.0024 - acc: 0.7151 - val_loss: 1.0311 - val_acc: 0.6974\n",
            "Epoch 9/100\n",
            "60000/60000 [==============================] - 1s 13us/sample - loss: 0.9943 - acc: 0.7182 - val_loss: 1.0195 - val_acc: 0.7013\n",
            "Epoch 10/100\n",
            "60000/60000 [==============================] - 1s 11us/sample - loss: 0.9865 - acc: 0.7206 - val_loss: 1.0082 - val_acc: 0.7036\n",
            "Epoch 11/100\n",
            "60000/60000 [==============================] - 1s 15us/sample - loss: 0.9788 - acc: 0.7231 - val_loss: 0.9974 - val_acc: 0.7060\n",
            "Epoch 12/100\n",
            "60000/60000 [==============================] - 1s 15us/sample - loss: 0.9713 - acc: 0.7257 - val_loss: 0.9869 - val_acc: 0.7093\n",
            "Epoch 13/100\n",
            "60000/60000 [==============================] - 1s 12us/sample - loss: 0.9640 - acc: 0.7280 - val_loss: 0.9768 - val_acc: 0.7121\n",
            "Epoch 14/100\n",
            "60000/60000 [==============================] - 1s 11us/sample - loss: 0.9568 - acc: 0.7300 - val_loss: 0.9669 - val_acc: 0.7153\n",
            "Epoch 15/100\n",
            "60000/60000 [==============================] - 1s 12us/sample - loss: 0.9499 - acc: 0.7320 - val_loss: 0.9574 - val_acc: 0.7176\n",
            "Epoch 16/100\n",
            "60000/60000 [==============================] - 1s 11us/sample - loss: 0.9430 - acc: 0.7342 - val_loss: 0.9482 - val_acc: 0.7203\n",
            "Epoch 17/100\n",
            "60000/60000 [==============================] - 1s 11us/sample - loss: 0.9364 - acc: 0.7363 - val_loss: 0.9392 - val_acc: 0.7227\n",
            "Epoch 18/100\n",
            "60000/60000 [==============================] - 1s 11us/sample - loss: 0.9299 - acc: 0.7383 - val_loss: 0.9306 - val_acc: 0.7251\n",
            "Epoch 19/100\n",
            "60000/60000 [==============================] - 1s 15us/sample - loss: 0.9235 - acc: 0.7400 - val_loss: 0.9222 - val_acc: 0.7271\n",
            "Epoch 20/100\n",
            "60000/60000 [==============================] - 1s 14us/sample - loss: 0.9173 - acc: 0.7417 - val_loss: 0.9140 - val_acc: 0.7302\n",
            "Epoch 21/100\n",
            "60000/60000 [==============================] - 1s 14us/sample - loss: 0.9112 - acc: 0.7439 - val_loss: 0.9061 - val_acc: 0.7327\n",
            "Epoch 22/100\n",
            "60000/60000 [==============================] - 1s 13us/sample - loss: 0.9053 - acc: 0.7459 - val_loss: 0.8983 - val_acc: 0.7352\n",
            "Epoch 23/100\n",
            "60000/60000 [==============================] - 1s 11us/sample - loss: 0.8994 - acc: 0.7475 - val_loss: 0.8909 - val_acc: 0.7373\n",
            "Epoch 24/100\n",
            "60000/60000 [==============================] - 1s 14us/sample - loss: 0.8937 - acc: 0.7493 - val_loss: 0.8836 - val_acc: 0.7398\n",
            "Epoch 25/100\n",
            "60000/60000 [==============================] - 1s 12us/sample - loss: 0.8881 - acc: 0.7512 - val_loss: 0.8765 - val_acc: 0.7426\n",
            "Epoch 26/100\n",
            "60000/60000 [==============================] - 1s 13us/sample - loss: 0.8827 - acc: 0.7527 - val_loss: 0.8696 - val_acc: 0.7447\n",
            "Epoch 27/100\n",
            "60000/60000 [==============================] - 1s 14us/sample - loss: 0.8773 - acc: 0.7544 - val_loss: 0.8629 - val_acc: 0.7470\n",
            "Epoch 28/100\n",
            "60000/60000 [==============================] - 1s 14us/sample - loss: 0.8720 - acc: 0.7562 - val_loss: 0.8564 - val_acc: 0.7493\n",
            "Epoch 29/100\n",
            "60000/60000 [==============================] - 1s 14us/sample - loss: 0.8669 - acc: 0.7576 - val_loss: 0.8500 - val_acc: 0.7509\n",
            "Epoch 30/100\n",
            "60000/60000 [==============================] - 1s 15us/sample - loss: 0.8618 - acc: 0.7592 - val_loss: 0.8438 - val_acc: 0.7524\n",
            "Epoch 31/100\n",
            "60000/60000 [==============================] - 1s 11us/sample - loss: 0.8569 - acc: 0.7607 - val_loss: 0.8378 - val_acc: 0.7547\n",
            "Epoch 32/100\n",
            "60000/60000 [==============================] - 1s 11us/sample - loss: 0.8520 - acc: 0.7621 - val_loss: 0.8319 - val_acc: 0.7567\n",
            "Epoch 33/100\n",
            "60000/60000 [==============================] - 1s 11us/sample - loss: 0.8473 - acc: 0.7636 - val_loss: 0.8262 - val_acc: 0.7583\n",
            "Epoch 34/100\n",
            "60000/60000 [==============================] - 1s 11us/sample - loss: 0.8426 - acc: 0.7650 - val_loss: 0.8206 - val_acc: 0.7608\n",
            "Epoch 35/100\n",
            "60000/60000 [==============================] - 1s 13us/sample - loss: 0.8380 - acc: 0.7665 - val_loss: 0.8151 - val_acc: 0.7622\n",
            "Epoch 36/100\n",
            "60000/60000 [==============================] - 1s 14us/sample - loss: 0.8335 - acc: 0.7681 - val_loss: 0.8098 - val_acc: 0.7634\n",
            "Epoch 37/100\n",
            "60000/60000 [==============================] - 1s 11us/sample - loss: 0.8291 - acc: 0.7695 - val_loss: 0.8046 - val_acc: 0.7656\n",
            "Epoch 38/100\n",
            "60000/60000 [==============================] - 1s 14us/sample - loss: 0.8248 - acc: 0.7710 - val_loss: 0.7996 - val_acc: 0.7665\n",
            "Epoch 39/100\n",
            "60000/60000 [==============================] - 1s 15us/sample - loss: 0.8205 - acc: 0.7724 - val_loss: 0.7946 - val_acc: 0.7673\n",
            "Epoch 40/100\n",
            "60000/60000 [==============================] - 1s 13us/sample - loss: 0.8164 - acc: 0.7738 - val_loss: 0.7898 - val_acc: 0.7687\n",
            "Epoch 41/100\n",
            "60000/60000 [==============================] - 1s 12us/sample - loss: 0.8123 - acc: 0.7754 - val_loss: 0.7850 - val_acc: 0.7701\n",
            "Epoch 42/100\n",
            "60000/60000 [==============================] - 1s 15us/sample - loss: 0.8082 - acc: 0.7764 - val_loss: 0.7804 - val_acc: 0.7718\n",
            "Epoch 43/100\n",
            "60000/60000 [==============================] - 1s 11us/sample - loss: 0.8043 - acc: 0.7779 - val_loss: 0.7759 - val_acc: 0.7728\n",
            "Epoch 44/100\n",
            "60000/60000 [==============================] - 1s 13us/sample - loss: 0.8004 - acc: 0.7793 - val_loss: 0.7715 - val_acc: 0.7742\n",
            "Epoch 45/100\n",
            "60000/60000 [==============================] - 1s 14us/sample - loss: 0.7965 - acc: 0.7808 - val_loss: 0.7672 - val_acc: 0.7754\n",
            "Epoch 46/100\n",
            "60000/60000 [==============================] - 1s 15us/sample - loss: 0.7928 - acc: 0.7819 - val_loss: 0.7630 - val_acc: 0.7767\n",
            "Epoch 47/100\n",
            "60000/60000 [==============================] - 1s 14us/sample - loss: 0.7891 - acc: 0.7832 - val_loss: 0.7588 - val_acc: 0.7778\n",
            "Epoch 48/100\n",
            "60000/60000 [==============================] - 1s 12us/sample - loss: 0.7854 - acc: 0.7843 - val_loss: 0.7548 - val_acc: 0.7788\n",
            "Epoch 49/100\n",
            "60000/60000 [==============================] - 1s 11us/sample - loss: 0.7819 - acc: 0.7854 - val_loss: 0.7508 - val_acc: 0.7798\n",
            "Epoch 50/100\n",
            "60000/60000 [==============================] - 1s 12us/sample - loss: 0.7783 - acc: 0.7864 - val_loss: 0.7469 - val_acc: 0.7813\n",
            "Epoch 51/100\n",
            "60000/60000 [==============================] - 1s 15us/sample - loss: 0.7749 - acc: 0.7875 - val_loss: 0.7432 - val_acc: 0.7822\n",
            "Epoch 52/100\n",
            "60000/60000 [==============================] - 1s 15us/sample - loss: 0.7715 - acc: 0.7886 - val_loss: 0.7394 - val_acc: 0.7840\n",
            "Epoch 53/100\n",
            "60000/60000 [==============================] - 1s 15us/sample - loss: 0.7681 - acc: 0.7896 - val_loss: 0.7358 - val_acc: 0.7853\n",
            "Epoch 54/100\n",
            "60000/60000 [==============================] - 1s 14us/sample - loss: 0.7648 - acc: 0.7906 - val_loss: 0.7322 - val_acc: 0.7859\n",
            "Epoch 55/100\n",
            "60000/60000 [==============================] - 1s 13us/sample - loss: 0.7616 - acc: 0.7916 - val_loss: 0.7287 - val_acc: 0.7868\n",
            "Epoch 56/100\n",
            "60000/60000 [==============================] - 1s 12us/sample - loss: 0.7584 - acc: 0.7924 - val_loss: 0.7253 - val_acc: 0.7885\n",
            "Epoch 57/100\n",
            "60000/60000 [==============================] - 1s 15us/sample - loss: 0.7552 - acc: 0.7935 - val_loss: 0.7220 - val_acc: 0.7898\n",
            "Epoch 58/100\n",
            "60000/60000 [==============================] - 1s 14us/sample - loss: 0.7521 - acc: 0.7944 - val_loss: 0.7187 - val_acc: 0.7910\n",
            "Epoch 59/100\n",
            "60000/60000 [==============================] - 1s 14us/sample - loss: 0.7491 - acc: 0.7951 - val_loss: 0.7154 - val_acc: 0.7918\n",
            "Epoch 60/100\n",
            "60000/60000 [==============================] - 1s 12us/sample - loss: 0.7460 - acc: 0.7958 - val_loss: 0.7123 - val_acc: 0.7932\n",
            "Epoch 61/100\n",
            "60000/60000 [==============================] - 1s 12us/sample - loss: 0.7431 - acc: 0.7967 - val_loss: 0.7092 - val_acc: 0.7949\n",
            "Epoch 62/100\n",
            "60000/60000 [==============================] - 1s 14us/sample - loss: 0.7402 - acc: 0.7977 - val_loss: 0.7061 - val_acc: 0.7958\n",
            "Epoch 63/100\n",
            "60000/60000 [==============================] - 1s 14us/sample - loss: 0.7373 - acc: 0.7984 - val_loss: 0.7031 - val_acc: 0.7969\n",
            "Epoch 64/100\n",
            "60000/60000 [==============================] - 1s 12us/sample - loss: 0.7345 - acc: 0.7992 - val_loss: 0.7002 - val_acc: 0.7978\n",
            "Epoch 65/100\n",
            "60000/60000 [==============================] - 1s 11us/sample - loss: 0.7317 - acc: 0.8001 - val_loss: 0.6973 - val_acc: 0.7988\n",
            "Epoch 66/100\n",
            "60000/60000 [==============================] - 1s 11us/sample - loss: 0.7289 - acc: 0.8009 - val_loss: 0.6945 - val_acc: 0.7996\n",
            "Epoch 67/100\n",
            "60000/60000 [==============================] - 1s 14us/sample - loss: 0.7262 - acc: 0.8017 - val_loss: 0.6917 - val_acc: 0.8005\n",
            "Epoch 68/100\n",
            "60000/60000 [==============================] - 1s 12us/sample - loss: 0.7235 - acc: 0.8026 - val_loss: 0.6890 - val_acc: 0.8017\n",
            "Epoch 69/100\n",
            "60000/60000 [==============================] - 1s 11us/sample - loss: 0.7209 - acc: 0.8034 - val_loss: 0.6863 - val_acc: 0.8027\n",
            "Epoch 70/100\n",
            "60000/60000 [==============================] - 1s 11us/sample - loss: 0.7183 - acc: 0.8043 - val_loss: 0.6837 - val_acc: 0.8033\n",
            "Epoch 71/100\n",
            "60000/60000 [==============================] - 1s 14us/sample - loss: 0.7157 - acc: 0.8050 - val_loss: 0.6811 - val_acc: 0.8041\n",
            "Epoch 72/100\n",
            "60000/60000 [==============================] - 1s 14us/sample - loss: 0.7132 - acc: 0.8057 - val_loss: 0.6785 - val_acc: 0.8057\n",
            "Epoch 73/100\n",
            "60000/60000 [==============================] - 1s 13us/sample - loss: 0.7107 - acc: 0.8062 - val_loss: 0.6760 - val_acc: 0.8068\n",
            "Epoch 74/100\n",
            "60000/60000 [==============================] - 1s 11us/sample - loss: 0.7082 - acc: 0.8069 - val_loss: 0.6736 - val_acc: 0.8080\n",
            "Epoch 75/100\n",
            "60000/60000 [==============================] - 1s 11us/sample - loss: 0.7058 - acc: 0.8076 - val_loss: 0.6712 - val_acc: 0.8084\n",
            "Epoch 76/100\n",
            "60000/60000 [==============================] - 1s 11us/sample - loss: 0.7034 - acc: 0.8083 - val_loss: 0.6688 - val_acc: 0.8097\n",
            "Epoch 77/100\n",
            "60000/60000 [==============================] - 1s 11us/sample - loss: 0.7010 - acc: 0.8089 - val_loss: 0.6665 - val_acc: 0.8102\n",
            "Epoch 78/100\n",
            "60000/60000 [==============================] - 1s 11us/sample - loss: 0.6987 - acc: 0.8096 - val_loss: 0.6642 - val_acc: 0.8107\n",
            "Epoch 79/100\n",
            "60000/60000 [==============================] - 1s 13us/sample - loss: 0.6964 - acc: 0.8103 - val_loss: 0.6619 - val_acc: 0.8118\n",
            "Epoch 80/100\n",
            "60000/60000 [==============================] - 1s 14us/sample - loss: 0.6941 - acc: 0.8109 - val_loss: 0.6597 - val_acc: 0.8127\n",
            "Epoch 81/100\n",
            "60000/60000 [==============================] - 1s 11us/sample - loss: 0.6919 - acc: 0.8116 - val_loss: 0.6575 - val_acc: 0.8131\n",
            "Epoch 82/100\n",
            "60000/60000 [==============================] - 1s 11us/sample - loss: 0.6896 - acc: 0.8121 - val_loss: 0.6553 - val_acc: 0.8139\n",
            "Epoch 83/100\n",
            "60000/60000 [==============================] - 1s 13us/sample - loss: 0.6875 - acc: 0.8129 - val_loss: 0.6532 - val_acc: 0.8145\n",
            "Epoch 84/100\n",
            "60000/60000 [==============================] - 1s 14us/sample - loss: 0.6853 - acc: 0.8135 - val_loss: 0.6511 - val_acc: 0.8151\n",
            "Epoch 85/100\n",
            "60000/60000 [==============================] - 1s 14us/sample - loss: 0.6832 - acc: 0.8139 - val_loss: 0.6491 - val_acc: 0.8159\n",
            "Epoch 86/100\n",
            "60000/60000 [==============================] - 1s 11us/sample - loss: 0.6811 - acc: 0.8144 - val_loss: 0.6471 - val_acc: 0.8165\n",
            "Epoch 87/100\n",
            "60000/60000 [==============================] - 1s 14us/sample - loss: 0.6790 - acc: 0.8152 - val_loss: 0.6451 - val_acc: 0.8172\n",
            "Epoch 88/100\n",
            "60000/60000 [==============================] - 1s 13us/sample - loss: 0.6769 - acc: 0.8157 - val_loss: 0.6431 - val_acc: 0.8178\n",
            "Epoch 89/100\n",
            "60000/60000 [==============================] - 1s 12us/sample - loss: 0.6749 - acc: 0.8164 - val_loss: 0.6412 - val_acc: 0.8183\n",
            "Epoch 90/100\n",
            "60000/60000 [==============================] - 1s 14us/sample - loss: 0.6729 - acc: 0.8169 - val_loss: 0.6393 - val_acc: 0.8190\n",
            "Epoch 91/100\n",
            "60000/60000 [==============================] - 1s 15us/sample - loss: 0.6709 - acc: 0.8174 - val_loss: 0.6374 - val_acc: 0.8194\n",
            "Epoch 92/100\n",
            "60000/60000 [==============================] - 1s 14us/sample - loss: 0.6689 - acc: 0.8180 - val_loss: 0.6356 - val_acc: 0.8200\n",
            "Epoch 93/100\n",
            "60000/60000 [==============================] - 1s 12us/sample - loss: 0.6670 - acc: 0.8185 - val_loss: 0.6338 - val_acc: 0.8209\n",
            "Epoch 94/100\n",
            "60000/60000 [==============================] - 1s 12us/sample - loss: 0.6651 - acc: 0.8191 - val_loss: 0.6320 - val_acc: 0.8214\n",
            "Epoch 95/100\n",
            "60000/60000 [==============================] - 1s 14us/sample - loss: 0.6632 - acc: 0.8198 - val_loss: 0.6302 - val_acc: 0.8225\n",
            "Epoch 96/100\n",
            "60000/60000 [==============================] - 1s 11us/sample - loss: 0.6613 - acc: 0.8202 - val_loss: 0.6285 - val_acc: 0.8231\n",
            "Epoch 97/100\n",
            "60000/60000 [==============================] - 1s 11us/sample - loss: 0.6595 - acc: 0.8205 - val_loss: 0.6268 - val_acc: 0.8236\n",
            "Epoch 98/100\n",
            "60000/60000 [==============================] - 1s 12us/sample - loss: 0.6577 - acc: 0.8210 - val_loss: 0.6251 - val_acc: 0.8246\n",
            "Epoch 99/100\n",
            "60000/60000 [==============================] - 1s 14us/sample - loss: 0.6559 - acc: 0.8216 - val_loss: 0.6234 - val_acc: 0.8249\n",
            "Epoch 100/100\n",
            "60000/60000 [==============================] - 1s 14us/sample - loss: 0.6541 - acc: 0.8221 - val_loss: 0.6217 - val_acc: 0.8254\n"
          ],
          "name": "stdout"
        },
        {
          "output_type": "execute_result",
          "data": {
            "text/plain": [
              "<tensorflow.python.keras.callbacks.History at 0x7f4a6b5bfeb8>"
            ]
          },
          "metadata": {
            "tags": []
          },
          "execution_count": 12
        }
      ]
    },
    {
      "cell_type": "markdown",
      "metadata": {
        "id": "yhupzyATmV2P",
        "colab_type": "text"
      },
      "source": [
        "**Save model**"
      ]
    },
    {
      "cell_type": "code",
      "metadata": {
        "id": "axnKVfacmawp",
        "colab_type": "code",
        "colab": {}
      },
      "source": [
        "model.save('models/mnist_lc.h5')"
      ],
      "execution_count": 0,
      "outputs": []
    }
  ]
}