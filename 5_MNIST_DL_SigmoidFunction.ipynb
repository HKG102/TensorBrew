{
  "nbformat": 4,
  "nbformat_minor": 0,
  "metadata": {
    "colab": {
      "name": "Colab's New Code Editor",
      "provenance": [],
      "collapsed_sections": [],
      "include_colab_link": true
    },
    "kernelspec": {
      "display_name": "Python 3",
      "name": "python3"
    }
  },
  "cells": [
    {
      "cell_type": "markdown",
      "metadata": {
        "id": "view-in-github",
        "colab_type": "text"
      },
      "source": [
        "<a href=\"https://colab.research.google.com/github/HKG102/TensorBrew/blob/master/5_MNIST_DL_SigmoidFunction.ipynb\" target=\"_parent\"><img src=\"https://colab.research.google.com/assets/colab-badge.svg\" alt=\"Open In Colab\"/></a>"
      ]
    },
    {
      "cell_type": "markdown",
      "metadata": {
        "id": "uab0gFlgB_HV",
        "colab_type": "text"
      },
      "source": [
        "**MNIST Classification with Deep Learning**"
      ]
    },
    {
      "cell_type": "markdown",
      "metadata": {
        "id": "LheC9wIgCI_q",
        "colab_type": "text"
      },
      "source": [
        "# Load tensorflow"
      ]
    },
    {
      "cell_type": "code",
      "metadata": {
        "id": "PCFtORZECPRe",
        "colab_type": "code",
        "colab": {
          "base_uri": "https://localhost:8080/",
          "height": 63
        },
        "outputId": "ba64f734-9561-458b-b24a-403c053b0c55"
      },
      "source": [
        "import tensorflow as tf\n",
        "tf.set_random_seed(42)"
      ],
      "execution_count": 1,
      "outputs": [
        {
          "output_type": "display_data",
          "data": {
            "text/html": [
              "<p style=\"color: red;\">\n",
              "The default version of TensorFlow in Colab will soon switch to TensorFlow 2.x.<br>\n",
              "We recommend you <a href=\"https://www.tensorflow.org/guide/migrate\" target=\"_blank\">upgrade</a> now \n",
              "or ensure your notebook will continue to use TensorFlow 1.x via the <code>%tensorflow_version 1.x</code> magic:\n",
              "<a href=\"https://colab.research.google.com/notebooks/tensorflow_version.ipynb\" target=\"_blank\">more info</a>.</p>\n"
            ],
            "text/plain": [
              "<IPython.core.display.HTML object>"
            ]
          },
          "metadata": {
            "tags": []
          }
        }
      ]
    },
    {
      "cell_type": "markdown",
      "metadata": {
        "id": "xSPas91zCTeH",
        "colab_type": "text"
      },
      "source": [
        "# Collect Data"
      ]
    },
    {
      "cell_type": "code",
      "metadata": {
        "id": "poYqF3epCaCv",
        "colab_type": "code",
        "colab": {}
      },
      "source": [
        "(trainX, trainY),(testX, testY) = tf.keras.datasets.mnist.load_data()"
      ],
      "execution_count": 0,
      "outputs": []
    },
    {
      "cell_type": "markdown",
      "metadata": {
        "id": "IUFY5c7JCd_V",
        "colab_type": "text"
      },
      "source": [
        "#Convert Output label to multiple values"
      ]
    },
    {
      "cell_type": "code",
      "metadata": {
        "id": "jbvAuzm2CjgU",
        "colab_type": "code",
        "colab": {}
      },
      "source": [
        "trainY = tf.keras.utils.to_categorical(trainY, num_classes=10)\n",
        "testY = tf.keras.utils.to_categorical(testY, num_classes=10)"
      ],
      "execution_count": 0,
      "outputs": []
    },
    {
      "cell_type": "markdown",
      "metadata": {
        "id": "BNOsuqEVCq0-",
        "colab_type": "text"
      },
      "source": [
        "# Build the Graph"
      ]
    },
    {
      "cell_type": "code",
      "metadata": {
        "id": "P42_3qwECvcu",
        "colab_type": "code",
        "colab": {
          "base_uri": "https://localhost:8080/",
          "height": 88
        },
        "outputId": "e3fbfb2d-0f0c-4689-8481-33cd366c2079"
      },
      "source": [
        "#Initialize Sequential model\n",
        "model = tf.keras.models.Sequential()\n",
        "\n",
        "#Reshape data from 2D to 1D -> 28x28 to 784\n",
        "model.add(tf.keras.layers.Reshape((784,),input_shape=(28,28,)))\n",
        "\n",
        "#Normalize the data\n",
        "model.add(tf.keras.layers.BatchNormalization())"
      ],
      "execution_count": 5,
      "outputs": [
        {
          "output_type": "stream",
          "text": [
            "WARNING:tensorflow:From /usr/local/lib/python3.6/dist-packages/tensorflow_core/python/ops/resource_variable_ops.py:1630: calling BaseResourceVariable.__init__ (from tensorflow.python.ops.resource_variable_ops) with constraint is deprecated and will be removed in a future version.\n",
            "Instructions for updating:\n",
            "If using Keras pass *_constraint arguments to layers.\n"
          ],
          "name": "stdout"
        }
      ]
    },
    {
      "cell_type": "markdown",
      "metadata": {
        "id": "f4lclu8xC2jN",
        "colab_type": "text"
      },
      "source": [
        "#Build the Graph..."
      ]
    },
    {
      "cell_type": "code",
      "metadata": {
        "id": "OhA9iyI9C7ot",
        "colab_type": "code",
        "colab": {}
      },
      "source": [
        "#Add 1st hidden layer\n",
        "model.add(tf.keras.layers.Dense(200, activation='sigmoid'))"
      ],
      "execution_count": 0,
      "outputs": []
    },
    {
      "cell_type": "code",
      "metadata": {
        "id": "qYekAuKFDAKn",
        "colab_type": "code",
        "colab": {}
      },
      "source": [
        "#Add 2nd hidden layer\n",
        "model.add(tf.keras.layers.Dense(100, activation='sigmoid'))"
      ],
      "execution_count": 0,
      "outputs": []
    },
    {
      "cell_type": "code",
      "metadata": {
        "id": "R_Hmua6PDEBu",
        "colab_type": "code",
        "colab": {}
      },
      "source": [
        "#Add 3rd hidden layer\n",
        "model.add(tf.keras.layers.Dense(60, activation='sigmoid'))"
      ],
      "execution_count": 0,
      "outputs": []
    },
    {
      "cell_type": "code",
      "metadata": {
        "id": "OnwPD8HiDNVG",
        "colab_type": "code",
        "colab": {}
      },
      "source": [
        "#Add 4th hidden layer\n",
        "model.add(tf.keras.layers.Dense(30, activation='sigmoid'))"
      ],
      "execution_count": 0,
      "outputs": []
    },
    {
      "cell_type": "code",
      "metadata": {
        "id": "oZa0XvDeDObR",
        "colab_type": "code",
        "colab": {}
      },
      "source": [
        "#Add OUTPUT layer\n",
        "model.add(tf.keras.layers.Dense(10, activation='softmax'))"
      ],
      "execution_count": 0,
      "outputs": []
    },
    {
      "cell_type": "markdown",
      "metadata": {
        "id": "A3f9NdMKDS6x",
        "colab_type": "text"
      },
      "source": [
        "#Build the Graph..."
      ]
    },
    {
      "cell_type": "code",
      "metadata": {
        "id": "CR8We2ahDXVx",
        "colab_type": "code",
        "colab": {}
      },
      "source": [
        "#Create optimizer with non-default learning rate\n",
        "sgd_optimizer = tf.keras.optimizers.SGD(lr=0.03)\n",
        "\n",
        "#Compile the model\n",
        "model.compile(optimizer=sgd_optimizer, loss='categorical_crossentropy', metrics=['accuracy'])"
      ],
      "execution_count": 0,
      "outputs": []
    },
    {
      "cell_type": "markdown",
      "metadata": {
        "id": "HDoMvfMlDbOM",
        "colab_type": "text"
      },
      "source": [
        "#Review model"
      ]
    },
    {
      "cell_type": "code",
      "metadata": {
        "id": "r4hArYm-Df-e",
        "colab_type": "code",
        "colab": {
          "base_uri": "https://localhost:8080/",
          "height": 391
        },
        "outputId": "526878a8-a07d-4a52-cbf1-a0c2a19ad55a"
      },
      "source": [
        "model.summary()"
      ],
      "execution_count": 12,
      "outputs": [
        {
          "output_type": "stream",
          "text": [
            "Model: \"sequential\"\n",
            "_________________________________________________________________\n",
            "Layer (type)                 Output Shape              Param #   \n",
            "=================================================================\n",
            "reshape (Reshape)            (None, 784)               0         \n",
            "_________________________________________________________________\n",
            "batch_normalization (BatchNo (None, 784)               3136      \n",
            "_________________________________________________________________\n",
            "dense (Dense)                (None, 200)               157000    \n",
            "_________________________________________________________________\n",
            "dense_1 (Dense)              (None, 100)               20100     \n",
            "_________________________________________________________________\n",
            "dense_2 (Dense)              (None, 60)                6060      \n",
            "_________________________________________________________________\n",
            "dense_3 (Dense)              (None, 30)                1830      \n",
            "_________________________________________________________________\n",
            "dense_4 (Dense)              (None, 10)                310       \n",
            "=================================================================\n",
            "Total params: 188,436\n",
            "Trainable params: 186,868\n",
            "Non-trainable params: 1,568\n",
            "_________________________________________________________________\n"
          ],
          "name": "stdout"
        }
      ]
    },
    {
      "cell_type": "markdown",
      "metadata": {
        "id": "MuZY-2jpR28v",
        "colab_type": "text"
      },
      "source": [
        "Param is parameter to learn"
      ]
    },
    {
      "cell_type": "markdown",
      "metadata": {
        "id": "AuHQR3cxDjaA",
        "colab_type": "text"
      },
      "source": [
        "#Train the model"
      ]
    },
    {
      "cell_type": "code",
      "metadata": {
        "id": "JqQRUoITDpX1",
        "colab_type": "code",
        "colab": {
          "base_uri": "https://localhost:8080/",
          "height": 1000
        },
        "outputId": "756dc497-351b-44cd-966c-212337e8c5de"
      },
      "source": [
        "model.fit(trainX,trainY,          \n",
        "          validation_data=(testX,testY),\n",
        "          epochs=30,\n",
        "          batch_size=32)"
      ],
      "execution_count": 13,
      "outputs": [
        {
          "output_type": "stream",
          "text": [
            "Train on 60000 samples, validate on 10000 samples\n",
            "Epoch 1/30\n",
            "60000/60000 [==============================] - 8s 137us/sample - loss: 2.2956 - acc: 0.1398 - val_loss: 2.2733 - val_acc: 0.1865\n",
            "Epoch 2/30\n",
            "60000/60000 [==============================] - 8s 128us/sample - loss: 2.0958 - acc: 0.2609 - val_loss: 1.7850 - val_acc: 0.3289\n",
            "Epoch 3/30\n",
            "60000/60000 [==============================] - 8s 128us/sample - loss: 1.5199 - acc: 0.4872 - val_loss: 1.1779 - val_acc: 0.6385\n",
            "Epoch 4/30\n",
            "60000/60000 [==============================] - 8s 127us/sample - loss: 0.9799 - acc: 0.7187 - val_loss: 0.7463 - val_acc: 0.8025\n",
            "Epoch 5/30\n",
            "60000/60000 [==============================] - 8s 127us/sample - loss: 0.7024 - acc: 0.8051 - val_loss: 0.5729 - val_acc: 0.8489\n",
            "Epoch 6/30\n",
            "60000/60000 [==============================] - 8s 127us/sample - loss: 0.5464 - acc: 0.8521 - val_loss: 0.4380 - val_acc: 0.8917\n",
            "Epoch 7/30\n",
            "60000/60000 [==============================] - 8s 128us/sample - loss: 0.4364 - acc: 0.8819 - val_loss: 0.3599 - val_acc: 0.9077\n",
            "Epoch 8/30\n",
            "60000/60000 [==============================] - 8s 128us/sample - loss: 0.3655 - acc: 0.8993 - val_loss: 0.3147 - val_acc: 0.9182\n",
            "Epoch 9/30\n",
            "60000/60000 [==============================] - 8s 127us/sample - loss: 0.3216 - acc: 0.9110 - val_loss: 0.2811 - val_acc: 0.9268\n",
            "Epoch 10/30\n",
            "60000/60000 [==============================] - 8s 128us/sample - loss: 0.2830 - acc: 0.9226 - val_loss: 0.2548 - val_acc: 0.9371\n",
            "Epoch 11/30\n",
            "60000/60000 [==============================] - 8s 127us/sample - loss: 0.2536 - acc: 0.9301 - val_loss: 0.2357 - val_acc: 0.9406\n",
            "Epoch 12/30\n",
            "60000/60000 [==============================] - 8s 128us/sample - loss: 0.2321 - acc: 0.9357 - val_loss: 0.2211 - val_acc: 0.9435\n",
            "Epoch 13/30\n",
            "60000/60000 [==============================] - 8s 127us/sample - loss: 0.2063 - acc: 0.9434 - val_loss: 0.2134 - val_acc: 0.9448\n",
            "Epoch 14/30\n",
            "60000/60000 [==============================] - 8s 127us/sample - loss: 0.1863 - acc: 0.9481 - val_loss: 0.1948 - val_acc: 0.9490\n",
            "Epoch 15/30\n",
            "60000/60000 [==============================] - 8s 128us/sample - loss: 0.1710 - acc: 0.9522 - val_loss: 0.1918 - val_acc: 0.9502\n",
            "Epoch 16/30\n",
            "60000/60000 [==============================] - 8s 127us/sample - loss: 0.1575 - acc: 0.9570 - val_loss: 0.1777 - val_acc: 0.9531\n",
            "Epoch 17/30\n",
            "60000/60000 [==============================] - 8s 128us/sample - loss: 0.1431 - acc: 0.9601 - val_loss: 0.1777 - val_acc: 0.9555\n",
            "Epoch 18/30\n",
            "60000/60000 [==============================] - 8s 137us/sample - loss: 0.1309 - acc: 0.9633 - val_loss: 0.1720 - val_acc: 0.9566\n",
            "Epoch 19/30\n",
            "60000/60000 [==============================] - 8s 128us/sample - loss: 0.1200 - acc: 0.9664 - val_loss: 0.1654 - val_acc: 0.9581\n",
            "Epoch 20/30\n",
            "60000/60000 [==============================] - 8s 125us/sample - loss: 0.1129 - acc: 0.9686 - val_loss: 0.1581 - val_acc: 0.9592\n",
            "Epoch 21/30\n",
            "60000/60000 [==============================] - 8s 128us/sample - loss: 0.1049 - acc: 0.9706 - val_loss: 0.1582 - val_acc: 0.9601\n",
            "Epoch 22/30\n",
            "60000/60000 [==============================] - 8s 127us/sample - loss: 0.0946 - acc: 0.9734 - val_loss: 0.1681 - val_acc: 0.9567\n",
            "Epoch 23/30\n",
            "60000/60000 [==============================] - 8s 127us/sample - loss: 0.0887 - acc: 0.9747 - val_loss: 0.1531 - val_acc: 0.9613\n",
            "Epoch 24/30\n",
            "60000/60000 [==============================] - 8s 128us/sample - loss: 0.0838 - acc: 0.9757 - val_loss: 0.1535 - val_acc: 0.9621\n",
            "Epoch 25/30\n",
            "60000/60000 [==============================] - 8s 129us/sample - loss: 0.0783 - acc: 0.9776 - val_loss: 0.1546 - val_acc: 0.9615\n",
            "Epoch 26/30\n",
            "60000/60000 [==============================] - 8s 127us/sample - loss: 0.0721 - acc: 0.9795 - val_loss: 0.1490 - val_acc: 0.9615\n",
            "Epoch 27/30\n",
            "60000/60000 [==============================] - 8s 127us/sample - loss: 0.0697 - acc: 0.9801 - val_loss: 0.1420 - val_acc: 0.9640\n",
            "Epoch 28/30\n",
            "60000/60000 [==============================] - 8s 129us/sample - loss: 0.0640 - acc: 0.9813 - val_loss: 0.1530 - val_acc: 0.9635\n",
            "Epoch 29/30\n",
            "60000/60000 [==============================] - 8s 129us/sample - loss: 0.0609 - acc: 0.9822 - val_loss: 0.1429 - val_acc: 0.9639\n",
            "Epoch 30/30\n",
            "60000/60000 [==============================] - 8s 130us/sample - loss: 0.0555 - acc: 0.9847 - val_loss: 0.1449 - val_acc: 0.9648\n"
          ],
          "name": "stdout"
        },
        {
          "output_type": "execute_result",
          "data": {
            "text/plain": [
              "<tensorflow.python.keras.callbacks.History at 0x7f2956ba6278>"
            ]
          },
          "metadata": {
            "tags": []
          },
          "execution_count": 13
        }
      ]
    }
  ]
}