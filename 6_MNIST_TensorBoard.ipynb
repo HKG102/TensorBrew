{
  "nbformat": 4,
  "nbformat_minor": 0,
  "metadata": {
    "colab": {
      "name": "6_MNIST_TensorBoard",
      "provenance": [],
      "include_colab_link": true
    },
    "kernelspec": {
      "name": "python3",
      "display_name": "Python 3"
    }
  },
  "cells": [
    {
      "cell_type": "markdown",
      "metadata": {
        "id": "view-in-github",
        "colab_type": "text"
      },
      "source": [
        "<a href=\"https://colab.research.google.com/github/HKG102/TensorBrew/blob/master/6_MNIST_TensorBoard.ipynb\" target=\"_parent\"><img src=\"https://colab.research.google.com/assets/colab-badge.svg\" alt=\"Open In Colab\"/></a>"
      ]
    },
    {
      "cell_type": "markdown",
      "metadata": {
        "id": "RElA2ZHl0C1I",
        "colab_type": "text"
      },
      "source": [
        "# Load tensorflow"
      ]
    },
    {
      "cell_type": "code",
      "metadata": {
        "id": "0zmgJdBE0F66",
        "colab_type": "code",
        "colab": {}
      },
      "source": [
        "import tensorflow as tf\n",
        "tf.set_random_seed(42)"
      ],
      "execution_count": 0,
      "outputs": []
    },
    {
      "cell_type": "markdown",
      "metadata": {
        "id": "z7Z85Vqw0Jdc",
        "colab_type": "text"
      },
      "source": [
        "#Collect Data"
      ]
    },
    {
      "cell_type": "code",
      "metadata": {
        "id": "IbFnMwqp0NpD",
        "colab_type": "code",
        "colab": {}
      },
      "source": [
        "(trainX, trainY),(testX, testY) = tf.keras.datasets.mnist.load_data()"
      ],
      "execution_count": 0,
      "outputs": []
    },
    {
      "cell_type": "markdown",
      "metadata": {
        "id": "IdEnQkTZ0Qrp",
        "colab_type": "text"
      },
      "source": [
        "#Convert Output label to multiple values"
      ]
    },
    {
      "cell_type": "code",
      "metadata": {
        "id": "tBPmNcOz0UUT",
        "colab_type": "code",
        "colab": {}
      },
      "source": [
        "trainY = tf.keras.utils.to_categorical(trainY, num_classes=10)\n",
        "testY = tf.keras.utils.to_categorical(testY, num_classes=10)"
      ],
      "execution_count": 0,
      "outputs": []
    },
    {
      "cell_type": "markdown",
      "metadata": {
        "id": "nzRUKvJg0Xl0",
        "colab_type": "text"
      },
      "source": [
        "#Build the Graph"
      ]
    },
    {
      "cell_type": "code",
      "metadata": {
        "id": "INTlPE0S0akc",
        "colab_type": "code",
        "colab": {}
      },
      "source": [
        "#Initialize model, reshape & normalize data\n",
        "model = tf.keras.models.Sequential()\n",
        "model.add(tf.keras.layers.Reshape((784,),input_shape=(28,28,)))\n",
        "model.add(tf.keras.layers.BatchNormalization())\n",
        "\n",
        "#Hidden layers \n",
        "model.add(tf.keras.layers.Dense(200, activation='sigmoid', name='Layer_1'))\n",
        "model.add(tf.keras.layers.Dense(100, activation='sigmoid', name='Layer_2'))\n",
        "model.add(tf.keras.layers.Dense(60, activation='sigmoid', name='Layer_3'))\n",
        "model.add(tf.keras.layers.Dense(30, activation='sigmoid', name='Layer_4'))\n",
        "\n",
        "#Output layer\n",
        "model.add(tf.keras.layers.Dense(10, activation='softmax', name='Output'))\n",
        "\n",
        "#Optimizer and Compile\n",
        "sgd_optimizer = tf.keras.optimizers.SGD(lr=0.03)\n",
        "model.compile(optimizer=sgd_optimizer, loss='categorical_crossentropy', metrics=['accuracy'])"
      ],
      "execution_count": 0,
      "outputs": []
    },
    {
      "cell_type": "markdown",
      "metadata": {
        "id": "vwP6RLbG0fU8",
        "colab_type": "text"
      },
      "source": [
        "#Logging data for TensorBoard"
      ]
    },
    {
      "cell_type": "code",
      "metadata": {
        "id": "r9u7_4bb0jN4",
        "colab_type": "code",
        "colab": {}
      },
      "source": [
        "tensorboard = tf.keras.callbacks.TensorBoard(log_dir='/tmp/mnist/dnn_v1')"
      ],
      "execution_count": 0,
      "outputs": []
    },
    {
      "cell_type": "code",
      "metadata": {
        "id": "63qu1lRU0my8",
        "colab_type": "code",
        "colab": {}
      },
      "source": [
        "#Train the model\n",
        "model.fit(trainX,trainY,          \n",
        "          validation_data=(testX,testY),\n",
        "          callbacks=[tensorboard],\n",
        "          epochs=30,\n",
        "          batch_size=32)"
      ],
      "execution_count": 0,
      "outputs": []
    },
    {
      "cell_type": "markdown",
      "metadata": {
        "id": "VPpFr7kh0rNi",
        "colab_type": "text"
      },
      "source": [
        "#How to access TensorBoard\n",
        "Run the following command (replace '/tmp/mnist/dnn_v1' if you are storing logs at any other place):\n",
        "\n",
        "tensorboard --logdir=/tmp/mnist/dnn_v1"
      ]
    }
  ]
}