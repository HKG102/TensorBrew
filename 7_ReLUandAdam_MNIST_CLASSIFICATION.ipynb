{
  "nbformat": 4,
  "nbformat_minor": 0,
  "metadata": {
    "colab": {
      "name": "7_ReLUandAdam_MNIST_CLASSIFICATION.ipynb",
      "provenance": [],
      "include_colab_link": true
    },
    "kernelspec": {
      "name": "python3",
      "display_name": "Python 3"
    }
  },
  "cells": [
    {
      "cell_type": "markdown",
      "metadata": {
        "id": "view-in-github",
        "colab_type": "text"
      },
      "source": [
        "<a href=\"https://colab.research.google.com/github/HKG102/TensorBrew/blob/master/7_ReLUandAdam_MNIST_CLASSIFICATION.ipynb\" target=\"_parent\"><img src=\"https://colab.research.google.com/assets/colab-badge.svg\" alt=\"Open In Colab\"/></a>"
      ]
    },
    {
      "cell_type": "markdown",
      "metadata": {
        "id": "6Q3cA4VrLlm6",
        "colab_type": "text"
      },
      "source": [
        "# ***ReLU and Adam***\n",
        "# *MNIST* *Classification* "
      ]
    },
    {
      "cell_type": "markdown",
      "metadata": {
        "id": "QHtZNp8RIkX2",
        "colab_type": "text"
      },
      "source": [
        "#Load tensorflow"
      ]
    },
    {
      "cell_type": "code",
      "metadata": {
        "id": "RI28rh1WIqyJ",
        "colab_type": "code",
        "colab": {
          "base_uri": "https://localhost:8080/",
          "height": 63
        },
        "outputId": "f415ae5b-1203-4483-8df2-a3622f797084"
      },
      "source": [
        "import tensorflow as tf\n",
        "tf.set_random_seed(42)"
      ],
      "execution_count": 1,
      "outputs": [
        {
          "output_type": "display_data",
          "data": {
            "text/html": [
              "<p style=\"color: red;\">\n",
              "The default version of TensorFlow in Colab will soon switch to TensorFlow 2.x.<br>\n",
              "We recommend you <a href=\"https://www.tensorflow.org/guide/migrate\" target=\"_blank\">upgrade</a> now \n",
              "or ensure your notebook will continue to use TensorFlow 1.x via the <code>%tensorflow_version 1.x</code> magic:\n",
              "<a href=\"https://colab.research.google.com/notebooks/tensorflow_version.ipynb\" target=\"_blank\">more info</a>.</p>\n"
            ],
            "text/plain": [
              "<IPython.core.display.HTML object>"
            ]
          },
          "metadata": {
            "tags": []
          }
        }
      ]
    },
    {
      "cell_type": "markdown",
      "metadata": {
        "id": "AC8TUnFpIvQX",
        "colab_type": "text"
      },
      "source": [
        "#Collect Data"
      ]
    },
    {
      "cell_type": "code",
      "metadata": {
        "id": "U5hRfVa8I4eE",
        "colab_type": "code",
        "colab": {
          "base_uri": "https://localhost:8080/",
          "height": 51
        },
        "outputId": "e917bc5a-2f9a-4fe0-bb06-b6842e2bae5b"
      },
      "source": [
        "(trainX, trainY),(testX, testY) = tf.keras.datasets.mnist.load_data()"
      ],
      "execution_count": 2,
      "outputs": [
        {
          "output_type": "stream",
          "text": [
            "Downloading data from https://storage.googleapis.com/tensorflow/tf-keras-datasets/mnist.npz\n",
            "11493376/11490434 [==============================] - 0s 0us/step\n"
          ],
          "name": "stdout"
        }
      ]
    },
    {
      "cell_type": "markdown",
      "metadata": {
        "id": "JgbB6p4gI7vr",
        "colab_type": "text"
      },
      "source": [
        "#Convert Output label to multiple values"
      ]
    },
    {
      "cell_type": "code",
      "metadata": {
        "id": "LhzqRswsJAHn",
        "colab_type": "code",
        "colab": {}
      },
      "source": [
        "trainY = tf.keras.utils.to_categorical(trainY, num_classes=10)\n",
        "testY = tf.keras.utils.to_categorical(testY, num_classes=10)"
      ],
      "execution_count": 0,
      "outputs": []
    },
    {
      "cell_type": "markdown",
      "metadata": {
        "id": "XOyvlOHEJQWZ",
        "colab_type": "text"
      },
      "source": [
        "#Build the Graph"
      ]
    },
    {
      "cell_type": "code",
      "metadata": {
        "id": "97HqbKHHJURN",
        "colab_type": "code",
        "colab": {
          "base_uri": "https://localhost:8080/",
          "height": 88
        },
        "outputId": "a68c5083-bde8-4f9d-ec3d-1985a2627b51"
      },
      "source": [
        "#Initialize model, reshape & normalize data\n",
        "model = tf.keras.models.Sequential()\n",
        "model.add(tf.keras.layers.Reshape((784,),input_shape=(28,28,)))\n",
        "model.add(tf.keras.layers.BatchNormalization())"
      ],
      "execution_count": 4,
      "outputs": [
        {
          "output_type": "stream",
          "text": [
            "WARNING:tensorflow:From /usr/local/lib/python3.6/dist-packages/tensorflow_core/python/ops/resource_variable_ops.py:1630: calling BaseResourceVariable.__init__ (from tensorflow.python.ops.resource_variable_ops) with constraint is deprecated and will be removed in a future version.\n",
            "Instructions for updating:\n",
            "If using Keras pass *_constraint arguments to layers.\n"
          ],
          "name": "stdout"
        }
      ]
    },
    {
      "cell_type": "markdown",
      "metadata": {
        "id": "vEWgPkWoJayA",
        "colab_type": "text"
      },
      "source": [
        "#Apply ReLU and Dropout"
      ]
    },
    {
      "cell_type": "code",
      "metadata": {
        "id": "rXrCJiIBJf-d",
        "colab_type": "code",
        "colab": {}
      },
      "source": [
        "#Hidden layers\n",
        "model.add(tf.keras.layers.Dense(200, activation='relu', name='Layer_1'))\n",
        "model.add(tf.keras.layers.Dense(100, activation='relu', name='Layer_2'))\n",
        "\n",
        "#Dropout layer\n",
        "model.add(tf.keras.layers.Dropout(0.5))\n",
        "\n",
        "#Hidden layers\n",
        "model.add(tf.keras.layers.Dense(60, activation='relu', name='Layer_3'))\n",
        "model.add(tf.keras.layers.Dense(30, activation='relu', name='Layer_4'))\n",
        "\n",
        "#Dropout layer\n",
        "model.add(tf.keras.layers.Dropout(0.3))"
      ],
      "execution_count": 0,
      "outputs": []
    },
    {
      "cell_type": "code",
      "metadata": {
        "id": "46YvkBYLJlAD",
        "colab_type": "code",
        "colab": {}
      },
      "source": [
        "#Output layer\n",
        "model.add(tf.keras.layers.Dense(10, activation='softmax', name='Output'))"
      ],
      "execution_count": 0,
      "outputs": []
    },
    {
      "cell_type": "markdown",
      "metadata": {
        "id": "5Ehar6AgJjph",
        "colab_type": "text"
      },
      "source": [
        "#Adam Optimizer"
      ]
    },
    {
      "cell_type": "code",
      "metadata": {
        "id": "inc0wVusJrzx",
        "colab_type": "code",
        "colab": {}
      },
      "source": [
        "model.compile(optimizer='adam', loss='categorical_crossentropy', metrics=['accuracy'])"
      ],
      "execution_count": 0,
      "outputs": []
    },
    {
      "cell_type": "markdown",
      "metadata": {
        "id": "rLdIvgnOJvP8",
        "colab_type": "text"
      },
      "source": [
        "#Logging data for TensorBoard"
      ]
    },
    {
      "cell_type": "code",
      "metadata": {
        "id": "dKrK-YaZJ0Z0",
        "colab_type": "code",
        "colab": {}
      },
      "source": [
        "tensorboard = tf.keras.callbacks.TensorBoard(log_dir='/tmp/mnist/dnn_v2')"
      ],
      "execution_count": 0,
      "outputs": []
    },
    {
      "cell_type": "code",
      "metadata": {
        "id": "-NJdzbHBJ34V",
        "colab_type": "code",
        "colab": {
          "base_uri": "https://localhost:8080/",
          "height": 1000
        },
        "outputId": "11e94f9b-798f-45fd-fe03-270724b29422"
      },
      "source": [
        "#Train the model\n",
        "model.fit(trainX,trainY,          \n",
        "          validation_data=(testX,testY),\n",
        "          callbacks=[tensorboard],\n",
        "          epochs=30,\n",
        "          batch_size=32)"
      ],
      "execution_count": 9,
      "outputs": [
        {
          "output_type": "stream",
          "text": [
            "Train on 60000 samples, validate on 10000 samples\n",
            "Epoch 1/30\n",
            "60000/60000 [==============================] - 9s 155us/sample - loss: 0.5131 - acc: 0.8533 - val_loss: 0.2571 - val_acc: 0.9527\n",
            "Epoch 2/30\n",
            "60000/60000 [==============================] - 9s 145us/sample - loss: 0.2443 - acc: 0.9374 - val_loss: 0.2156 - val_acc: 0.9624\n",
            "Epoch 3/30\n",
            "60000/60000 [==============================] - 9s 147us/sample - loss: 0.1865 - acc: 0.9525 - val_loss: 0.2227 - val_acc: 0.9647\n",
            "Epoch 4/30\n",
            "60000/60000 [==============================] - 9s 146us/sample - loss: 0.1518 - acc: 0.9624 - val_loss: 0.1909 - val_acc: 0.9682\n",
            "Epoch 5/30\n",
            "60000/60000 [==============================] - 9s 144us/sample - loss: 0.1294 - acc: 0.9669 - val_loss: 0.2061 - val_acc: 0.9726\n",
            "Epoch 6/30\n",
            "60000/60000 [==============================] - 9s 150us/sample - loss: 0.1162 - acc: 0.9699 - val_loss: 0.2133 - val_acc: 0.9689\n",
            "Epoch 7/30\n",
            "60000/60000 [==============================] - 9s 146us/sample - loss: 0.1109 - acc: 0.9719 - val_loss: 0.2049 - val_acc: 0.9723\n",
            "Epoch 8/30\n",
            "60000/60000 [==============================] - 9s 143us/sample - loss: 0.0959 - acc: 0.9752 - val_loss: 0.2201 - val_acc: 0.9719\n",
            "Epoch 9/30\n",
            "60000/60000 [==============================] - 8s 142us/sample - loss: 0.0921 - acc: 0.9770 - val_loss: 0.2278 - val_acc: 0.9706\n",
            "Epoch 10/30\n",
            "60000/60000 [==============================] - 9s 146us/sample - loss: 0.0819 - acc: 0.9788 - val_loss: 0.2334 - val_acc: 0.9716\n",
            "Epoch 11/30\n",
            "60000/60000 [==============================] - 9s 144us/sample - loss: 0.0770 - acc: 0.9800 - val_loss: 0.2037 - val_acc: 0.9732\n",
            "Epoch 12/30\n",
            "60000/60000 [==============================] - 9s 145us/sample - loss: 0.0743 - acc: 0.9810 - val_loss: 0.2287 - val_acc: 0.9730\n",
            "Epoch 13/30\n",
            "60000/60000 [==============================] - 9s 154us/sample - loss: 0.0697 - acc: 0.9820 - val_loss: 0.2618 - val_acc: 0.9707\n",
            "Epoch 14/30\n",
            "60000/60000 [==============================] - 9s 147us/sample - loss: 0.0675 - acc: 0.9823 - val_loss: 0.2783 - val_acc: 0.9720\n",
            "Epoch 15/30\n",
            "60000/60000 [==============================] - 9s 150us/sample - loss: 0.0620 - acc: 0.9834 - val_loss: 0.2644 - val_acc: 0.9736\n",
            "Epoch 16/30\n",
            "60000/60000 [==============================] - 9s 147us/sample - loss: 0.0579 - acc: 0.9850 - val_loss: 0.2328 - val_acc: 0.9725\n",
            "Epoch 17/30\n",
            "60000/60000 [==============================] - 9s 148us/sample - loss: 0.0622 - acc: 0.9837 - val_loss: 0.2489 - val_acc: 0.9737\n",
            "Epoch 18/30\n",
            "60000/60000 [==============================] - 9s 148us/sample - loss: 0.0554 - acc: 0.9859 - val_loss: 0.2851 - val_acc: 0.9727\n",
            "Epoch 19/30\n",
            "60000/60000 [==============================] - 9s 147us/sample - loss: 0.0527 - acc: 0.9861 - val_loss: 0.2299 - val_acc: 0.9723\n",
            "Epoch 20/30\n",
            "60000/60000 [==============================] - 10s 161us/sample - loss: 0.0555 - acc: 0.9858 - val_loss: 0.3388 - val_acc: 0.9741\n",
            "Epoch 21/30\n",
            "60000/60000 [==============================] - 9s 153us/sample - loss: 0.0481 - acc: 0.9873 - val_loss: 0.2516 - val_acc: 0.9742\n",
            "Epoch 22/30\n",
            "60000/60000 [==============================] - 9s 152us/sample - loss: 0.0505 - acc: 0.9873 - val_loss: 0.2413 - val_acc: 0.9739\n",
            "Epoch 23/30\n",
            "60000/60000 [==============================] - 9s 152us/sample - loss: 0.0490 - acc: 0.9878 - val_loss: 0.1776 - val_acc: 0.9751\n",
            "Epoch 24/30\n",
            "60000/60000 [==============================] - 9s 150us/sample - loss: 0.0451 - acc: 0.9884 - val_loss: 0.2335 - val_acc: 0.9764\n",
            "Epoch 25/30\n",
            "60000/60000 [==============================] - 9s 151us/sample - loss: 0.0411 - acc: 0.9897 - val_loss: 0.2571 - val_acc: 0.9737\n",
            "Epoch 26/30\n",
            "60000/60000 [==============================] - 9s 157us/sample - loss: 0.0441 - acc: 0.9883 - val_loss: 0.2685 - val_acc: 0.9699\n",
            "Epoch 27/30\n",
            "60000/60000 [==============================] - 9s 156us/sample - loss: 0.0426 - acc: 0.9894 - val_loss: 0.6641 - val_acc: 0.9740\n",
            "Epoch 28/30\n",
            "60000/60000 [==============================] - 9s 148us/sample - loss: 0.0418 - acc: 0.9896 - val_loss: 0.3159 - val_acc: 0.9727\n",
            "Epoch 29/30\n",
            "60000/60000 [==============================] - 9s 146us/sample - loss: 0.0428 - acc: 0.9894 - val_loss: 0.2671 - val_acc: 0.9731\n",
            "Epoch 30/30\n",
            "60000/60000 [==============================] - 9s 152us/sample - loss: 0.0395 - acc: 0.9902 - val_loss: 0.4356 - val_acc: 0.9735\n"
          ],
          "name": "stdout"
        },
        {
          "output_type": "execute_result",
          "data": {
            "text/plain": [
              "<tensorflow.python.keras.callbacks.History at 0x7f6ee8881f28>"
            ]
          },
          "metadata": {
            "tags": []
          },
          "execution_count": 9
        }
      ]
    }
  ]
}