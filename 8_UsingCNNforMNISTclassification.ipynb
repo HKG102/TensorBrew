{
  "nbformat": 4,
  "nbformat_minor": 0,
  "metadata": {
    "colab": {
      "name": "8_UsingCNNforMNISTclassification.ipynb",
      "provenance": [],
      "include_colab_link": true
    },
    "kernelspec": {
      "name": "python3",
      "display_name": "Python 3"
    },
    "accelerator": "GPU"
  },
  "cells": [
    {
      "cell_type": "markdown",
      "metadata": {
        "id": "view-in-github",
        "colab_type": "text"
      },
      "source": [
        "<a href=\"https://colab.research.google.com/github/HKG102/TensorBrew/blob/master/8_UsingCNNforMNISTclassification.ipynb\" target=\"_parent\"><img src=\"https://colab.research.google.com/assets/colab-badge.svg\" alt=\"Open In Colab\"/></a>"
      ]
    },
    {
      "cell_type": "markdown",
      "metadata": {
        "id": "wnJ_sw0BHSS_",
        "colab_type": "text"
      },
      "source": [
        "#Load tensorflow"
      ]
    },
    {
      "cell_type": "code",
      "metadata": {
        "id": "5_y7aKMxGx8J",
        "colab_type": "code",
        "colab": {
          "base_uri": "https://localhost:8080/",
          "height": 63
        },
        "outputId": "a37b97fe-69fd-4eb7-ba90-a04944d1c3de"
      },
      "source": [
        "import tensorflow as tf\n",
        "tf.set_random_seed(42)"
      ],
      "execution_count": 1,
      "outputs": [
        {
          "output_type": "display_data",
          "data": {
            "text/html": [
              "<p style=\"color: red;\">\n",
              "The default version of TensorFlow in Colab will soon switch to TensorFlow 2.x.<br>\n",
              "We recommend you <a href=\"https://www.tensorflow.org/guide/migrate\" target=\"_blank\">upgrade</a> now \n",
              "or ensure your notebook will continue to use TensorFlow 1.x via the <code>%tensorflow_version 1.x</code> magic:\n",
              "<a href=\"https://colab.research.google.com/notebooks/tensorflow_version.ipynb\" target=\"_blank\">more info</a>.</p>\n"
            ],
            "text/plain": [
              "<IPython.core.display.HTML object>"
            ]
          },
          "metadata": {
            "tags": []
          }
        }
      ]
    },
    {
      "cell_type": "markdown",
      "metadata": {
        "id": "HdyJ1xrYHaYb",
        "colab_type": "text"
      },
      "source": [
        "#Collect Data"
      ]
    },
    {
      "cell_type": "code",
      "metadata": {
        "id": "slUP9jP9Hd9H",
        "colab_type": "code",
        "colab": {
          "base_uri": "https://localhost:8080/",
          "height": 51
        },
        "outputId": "04f7f37d-d8fa-4f44-b018-5dc21eb053e5"
      },
      "source": [
        "(trainX, trainY),(testX, testY) = tf.keras.datasets.mnist.load_data()"
      ],
      "execution_count": 2,
      "outputs": [
        {
          "output_type": "stream",
          "text": [
            "Downloading data from https://storage.googleapis.com/tensorflow/tf-keras-datasets/mnist.npz\n",
            "11493376/11490434 [==============================] - 0s 0us/step\n"
          ],
          "name": "stdout"
        }
      ]
    },
    {
      "cell_type": "markdown",
      "metadata": {
        "id": "mXfyMPBnHhZ_",
        "colab_type": "text"
      },
      "source": [
        "#Convert Output label to multiple values"
      ]
    },
    {
      "cell_type": "code",
      "metadata": {
        "id": "ygL8bV_qHk_4",
        "colab_type": "code",
        "colab": {}
      },
      "source": [
        "trainY = tf.keras.utils.to_categorical(trainY, num_classes=10)\n",
        "testY = tf.keras.utils.to_categorical(testY, num_classes=10)"
      ],
      "execution_count": 0,
      "outputs": []
    },
    {
      "cell_type": "markdown",
      "metadata": {
        "id": "bUgMka9WHrYY",
        "colab_type": "text"
      },
      "source": [
        "#Build the Graph"
      ]
    },
    {
      "cell_type": "code",
      "metadata": {
        "id": "v1v5eGMTHvpu",
        "colab_type": "code",
        "colab": {
          "base_uri": "https://localhost:8080/",
          "height": 88
        },
        "outputId": "a27c1624-8d15-47bc-e0a5-e790a31d1dd2"
      },
      "source": [
        "#Initialize model, reshape & normalize data\n",
        "model = tf.keras.models.Sequential()\n",
        "\n",
        "#Reshape data from 2D (28,28) to 3D (28, 28, 1)\n",
        "model.add(tf.keras.layers.Reshape((28,28,1),input_shape=(28,28,)))\n",
        "\n",
        "#normalize data\n",
        "model.add(tf.keras.layers.BatchNormalization())"
      ],
      "execution_count": 4,
      "outputs": [
        {
          "output_type": "stream",
          "text": [
            "WARNING:tensorflow:From /usr/local/lib/python3.6/dist-packages/tensorflow_core/python/ops/resource_variable_ops.py:1630: calling BaseResourceVariable.__init__ (from tensorflow.python.ops.resource_variable_ops) with constraint is deprecated and will be removed in a future version.\n",
            "Instructions for updating:\n",
            "If using Keras pass *_constraint arguments to layers.\n"
          ],
          "name": "stdout"
        }
      ]
    },
    {
      "cell_type": "markdown",
      "metadata": {
        "id": "BCywDaH3HzPm",
        "colab_type": "text"
      },
      "source": [
        "#Apply Convolutional Layers, MaxPooling"
      ]
    },
    {
      "cell_type": "code",
      "metadata": {
        "id": "5Y0sN0OXH32W",
        "colab_type": "code",
        "colab": {}
      },
      "source": [
        "#Add first convolutional layer\n",
        "model.add(tf.keras.layers.Conv2D(32, kernel_size=(3,3), activation='relu'))\n",
        "\n",
        "#Add second convolutional layer\n",
        "model.add(tf.keras.layers.Conv2D(64, kernel_size=(3,3), activation='relu'))\n",
        "\n",
        "#Add MaxPooling layer\n",
        "model.add(tf.keras.layers.MaxPool2D(pool_size=(2,2)))"
      ],
      "execution_count": 0,
      "outputs": []
    },
    {
      "cell_type": "markdown",
      "metadata": {
        "id": "M6aFD_t0H7Rq",
        "colab_type": "text"
      },
      "source": [
        "#Add layers for Classification"
      ]
    },
    {
      "cell_type": "code",
      "metadata": {
        "id": "YpLkr_WMH_XM",
        "colab_type": "code",
        "colab": {}
      },
      "source": [
        "#Flatten the output\n",
        "model.add(tf.keras.layers.Flatten())\n",
        "\n",
        "#Dense layer\n",
        "model.add(tf.keras.layers.Dense(128, activation='relu'))\n",
        "\n",
        "#Add another dropout layer\n",
        "model.add(tf.keras.layers.Dropout(0.25))\n",
        "\n",
        "#Output layer\n",
        "model.add(tf.keras.layers.Dense(10, activation='softmax'))"
      ],
      "execution_count": 0,
      "outputs": []
    },
    {
      "cell_type": "code",
      "metadata": {
        "id": "IO7TJoeNIEx-",
        "colab_type": "code",
        "colab": {}
      },
      "source": [
        "model.compile(optimizer='adam', loss='categorical_crossentropy', metrics=['accuracy'])"
      ],
      "execution_count": 0,
      "outputs": []
    },
    {
      "cell_type": "markdown",
      "metadata": {
        "id": "Om-hs6MgIDY7",
        "colab_type": "text"
      },
      "source": [
        "#Train the model"
      ]
    },
    {
      "cell_type": "code",
      "metadata": {
        "id": "El66-5drIPi7",
        "colab_type": "code",
        "colab": {}
      },
      "source": [
        "tensorboard = tf.keras.callbacks.TensorBoard(log_dir='/tmp/mnist/cnn_v1')"
      ],
      "execution_count": 0,
      "outputs": []
    },
    {
      "cell_type": "code",
      "metadata": {
        "id": "E9YxRSYtITUP",
        "colab_type": "code",
        "colab": {
          "base_uri": "https://localhost:8080/",
          "height": 1000
        },
        "outputId": "1bc53ad4-84d6-4eca-aaeb-8ac43219dbe6"
      },
      "source": [
        "#Train the model\n",
        "model.fit(trainX,trainY,          \n",
        "          validation_data=(testX,testY),\n",
        "          callbacks=[tensorboard],\n",
        "          epochs=30,\n",
        "          batch_size=32)"
      ],
      "execution_count": 9,
      "outputs": [
        {
          "output_type": "stream",
          "text": [
            "Train on 60000 samples, validate on 10000 samples\n",
            "Epoch 1/30\n",
            "   32/60000 [..............................] - ETA: 1:44:16 - loss: 2.3203 - acc: 0.1562WARNING:tensorflow:Method (on_train_batch_end) is slow compared to the batch update (0.115465). Check your callbacks.\n",
            "60000/60000 [==============================] - 22s 366us/sample - loss: 0.1273 - acc: 0.9620 - val_loss: 0.0477 - val_acc: 0.9843\n",
            "Epoch 2/30\n",
            "60000/60000 [==============================] - 19s 309us/sample - loss: 0.0470 - acc: 0.9857 - val_loss: 0.0377 - val_acc: 0.9886\n",
            "Epoch 3/30\n",
            "60000/60000 [==============================] - 19s 312us/sample - loss: 0.0330 - acc: 0.9896 - val_loss: 0.0366 - val_acc: 0.9897\n",
            "Epoch 4/30\n",
            "60000/60000 [==============================] - 19s 310us/sample - loss: 0.0229 - acc: 0.9927 - val_loss: 0.0328 - val_acc: 0.9907\n",
            "Epoch 5/30\n",
            "60000/60000 [==============================] - 19s 315us/sample - loss: 0.0183 - acc: 0.9939 - val_loss: 0.0354 - val_acc: 0.9910\n",
            "Epoch 6/30\n",
            "60000/60000 [==============================] - 19s 312us/sample - loss: 0.0155 - acc: 0.9949 - val_loss: 0.0329 - val_acc: 0.9916\n",
            "Epoch 7/30\n",
            "60000/60000 [==============================] - 19s 310us/sample - loss: 0.0111 - acc: 0.9965 - val_loss: 0.0389 - val_acc: 0.9906\n",
            "Epoch 8/30\n",
            "60000/60000 [==============================] - 19s 311us/sample - loss: 0.0111 - acc: 0.9964 - val_loss: 0.0421 - val_acc: 0.9902\n",
            "Epoch 9/30\n",
            "60000/60000 [==============================] - 19s 309us/sample - loss: 0.0085 - acc: 0.9973 - val_loss: 0.0388 - val_acc: 0.9910\n",
            "Epoch 10/30\n",
            "60000/60000 [==============================] - 19s 310us/sample - loss: 0.0085 - acc: 0.9971 - val_loss: 0.0385 - val_acc: 0.9906\n",
            "Epoch 11/30\n",
            "60000/60000 [==============================] - 19s 309us/sample - loss: 0.0079 - acc: 0.9974 - val_loss: 0.0370 - val_acc: 0.9915\n",
            "Epoch 12/30\n",
            "60000/60000 [==============================] - 19s 309us/sample - loss: 0.0062 - acc: 0.9978 - val_loss: 0.0467 - val_acc: 0.9899\n",
            "Epoch 13/30\n",
            "60000/60000 [==============================] - 19s 309us/sample - loss: 0.0062 - acc: 0.9979 - val_loss: 0.0403 - val_acc: 0.9920\n",
            "Epoch 14/30\n",
            "60000/60000 [==============================] - 19s 310us/sample - loss: 0.0057 - acc: 0.9978 - val_loss: 0.0420 - val_acc: 0.9922\n",
            "Epoch 15/30\n",
            "60000/60000 [==============================] - 19s 309us/sample - loss: 0.0043 - acc: 0.9987 - val_loss: 0.0411 - val_acc: 0.9928\n",
            "Epoch 16/30\n",
            "60000/60000 [==============================] - 19s 311us/sample - loss: 0.0052 - acc: 0.9983 - val_loss: 0.0464 - val_acc: 0.9915\n",
            "Epoch 17/30\n",
            "60000/60000 [==============================] - 19s 310us/sample - loss: 0.0038 - acc: 0.9987 - val_loss: 0.0483 - val_acc: 0.9918\n",
            "Epoch 18/30\n",
            "60000/60000 [==============================] - 19s 309us/sample - loss: 0.0040 - acc: 0.9987 - val_loss: 0.0476 - val_acc: 0.9922\n",
            "Epoch 19/30\n",
            "60000/60000 [==============================] - 19s 310us/sample - loss: 0.0045 - acc: 0.9987 - val_loss: 0.0500 - val_acc: 0.9918\n",
            "Epoch 20/30\n",
            "60000/60000 [==============================] - 19s 311us/sample - loss: 0.0026 - acc: 0.9992 - val_loss: 0.0524 - val_acc: 0.9897\n",
            "Epoch 21/30\n",
            "60000/60000 [==============================] - 19s 309us/sample - loss: 0.0042 - acc: 0.9986 - val_loss: 0.0607 - val_acc: 0.9891\n",
            "Epoch 22/30\n",
            "60000/60000 [==============================] - 19s 316us/sample - loss: 0.0043 - acc: 0.9986 - val_loss: 0.0475 - val_acc: 0.9921\n",
            "Epoch 23/30\n",
            "60000/60000 [==============================] - 19s 312us/sample - loss: 0.0032 - acc: 0.9988 - val_loss: 0.0444 - val_acc: 0.9914\n",
            "Epoch 24/30\n",
            "60000/60000 [==============================] - 19s 310us/sample - loss: 0.0035 - acc: 0.9988 - val_loss: 0.0433 - val_acc: 0.9929\n",
            "Epoch 25/30\n",
            "60000/60000 [==============================] - 19s 310us/sample - loss: 0.0033 - acc: 0.9989 - val_loss: 0.0524 - val_acc: 0.9913\n",
            "Epoch 26/30\n",
            "60000/60000 [==============================] - 19s 310us/sample - loss: 0.0028 - acc: 0.9992 - val_loss: 0.0512 - val_acc: 0.9916\n",
            "Epoch 27/30\n",
            "60000/60000 [==============================] - 19s 310us/sample - loss: 0.0033 - acc: 0.9989 - val_loss: 0.0566 - val_acc: 0.9920\n",
            "Epoch 28/30\n",
            "60000/60000 [==============================] - 19s 311us/sample - loss: 0.0026 - acc: 0.9991 - val_loss: 0.0553 - val_acc: 0.9924\n",
            "Epoch 29/30\n",
            "60000/60000 [==============================] - 19s 310us/sample - loss: 0.0030 - acc: 0.9990 - val_loss: 0.0596 - val_acc: 0.9927\n",
            "Epoch 30/30\n",
            "60000/60000 [==============================] - 19s 311us/sample - loss: 0.0029 - acc: 0.9991 - val_loss: 0.0444 - val_acc: 0.9933\n"
          ],
          "name": "stdout"
        },
        {
          "output_type": "execute_result",
          "data": {
            "text/plain": [
              "<tensorflow.python.keras.callbacks.History at 0x7f7e03139940>"
            ]
          },
          "metadata": {
            "tags": []
          },
          "execution_count": 9
        }
      ]
    }
  ]
}